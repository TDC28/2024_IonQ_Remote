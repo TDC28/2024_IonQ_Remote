{
 "cells": [
  {
   "cell_type": "code",
   "execution_count": 7,
   "id": "initial_id",
   "metadata": {
    "collapsed": true,
    "ExecuteTime": {
     "end_time": "2024-02-03T20:49:18.997593Z",
     "start_time": "2024-02-03T20:49:18.988333Z"
    }
   },
   "outputs": [],
   "source": [
    "import server\n",
    "from qiskit import QuantumCircuit\n",
    "sv = server.Server()"
   ]
  },
  {
   "cell_type": "code",
   "outputs": [
    {
     "data": {
      "text/plain": "<Figure size 705.552x284.278 with 1 Axes>",
      "image/png": "[encoded data removed]"
     },
     "execution_count": 40,
     "metadata": {},
     "output_type": "execute_result"
    }
   ],
   "source": [
    "qc = QuantumCircuit(3)\n",
    "\n",
    "for i in range(1,3):\n",
    "    qc.h(i)\n",
    "    qc.sdg(i)\n",
    "    qc.h(i)\n",
    "    \n",
    "qc.h(0)\n",
    "qc.cx(1, 2)\n",
    "qc.h(1)\n",
    "qc.s(1)\n",
    "qc.h(1)\n",
    "qc.draw()"
   ],
   "metadata": {
    "collapsed": false,
    "ExecuteTime": {
     "end_time": "2024-02-03T22:48:16.151393Z",
     "start_time": "2024-02-03T22:48:16.047298Z"
    }
   },
   "id": "4c11db003247b01b",
   "execution_count": 40
  },
  {
   "cell_type": "code",
   "outputs": [
    {
     "data": {
      "text/plain": "{'0': 1}"
     },
     "execution_count": 41,
     "metadata": {},
     "output_type": "execute_result"
    }
   ],
   "source": [
    "sv.probe(vault_index=5, circuit=qc.qasm())"
   ],
   "metadata": {
    "collapsed": false,
    "ExecuteTime": {
     "end_time": "2024-02-03T22:48:37.467024Z",
     "start_time": "2024-02-03T22:48:29.668269Z"
    }
   },
   "id": "14b8c36aa3c71d45",
   "execution_count": 41
  },
  {
   "cell_type": "code",
   "outputs": [
    {
     "data": {
      "text/plain": "{'team': 'Qnonymous',\n 'totalAvgScore': 0.038384615384615385,\n 'topVaultScores': [0.8, 0, 0, 0, 0, 0.46061538461538465, 0, 0, 0, 0, 0, 0, 0],\n 'probesRemaining': [34, 19, 20, 20, 20, 8, 20, 20, 20, 16, 20, 20, 20],\n 'attacksRemaining': [37, 20, 20, 20, 20, 18, 20, 20, 20, 20, 20, 20, 20],\n 'reminder': 'Vault index 0 is a test vault, and does not count towards your final score.'}"
     },
     "execution_count": 32,
     "metadata": {},
     "output_type": "execute_result"
    }
   ],
   "source": [
    "sv.state()"
   ],
   "metadata": {
    "collapsed": false,
    "ExecuteTime": {
     "end_time": "2024-02-03T22:40:48.261580Z",
     "start_time": "2024-02-03T22:40:48.060529Z"
    }
   },
   "id": "dcefca7958c39f31",
   "execution_count": 32
  },
  {
   "cell_type": "code",
   "outputs": [
    {
     "data": {
      "text/plain": "{'rawScore': 1, 'score': 0.9230769230769231, 'costFactor': 0.9230769230769231}"
     },
     "execution_count": 42,
     "metadata": {},
     "output_type": "execute_result"
    }
   ],
   "source": [
    "sv.attack(vault_index=5, circuit=qc.qasm())"
   ],
   "metadata": {
    "collapsed": false,
    "ExecuteTime": {
     "end_time": "2024-02-03T22:48:54.770786Z",
     "start_time": "2024-02-03T22:48:47.603411Z"
    }
   },
   "id": "2f3ac5565251d2f4",
   "execution_count": 42
  },
  {
   "cell_type": "code",
   "outputs": [],
   "source": [
    "z_meas = {'0': 0.13,\n",
    " '1': 0.12,\n",
    " '2': 0.11,\n",
    " '3': 0.11,\n",
    " '4': 0.17,\n",
    " '5': 0.15,\n",
    " '6': 0.095,\n",
    " '7': 0.115}\n",
    "\n",
    "y_meas = {'0': 0.25, '3': 0.22, '4': 0.32, '7': 0.21}\n",
    "\n",
    "x_meas = {'0': 0.25, '1': 0.22, '2': 0.32, '3': 0.21}"
   ],
   "metadata": {
    "collapsed": false,
    "ExecuteTime": {
     "end_time": "2024-02-03T22:08:34.905819Z",
     "start_time": "2024-02-03T22:08:34.898938Z"
    }
   },
   "id": "b827125caf7b2281",
   "execution_count": 20
  },
  {
   "cell_type": "code",
   "outputs": [
    {
     "data": {
      "text/plain": "{'team': 'Qnonymous',\n 'totalAvgScore': 0.038384615384615385,\n 'topVaultScores': [0.8, 0, 0, 0, 0, 0.46061538461538465, 0, 0, 0, 0, 0, 0, 0],\n 'probesRemaining': [34, 19, 20, 20, 20, 6, 20, 20, 20, 16, 20, 20, 20],\n 'attacksRemaining': [37, 20, 20, 20, 20, 17, 20, 20, 20, 20, 20, 20, 20],\n 'reminder': 'Vault index 0 is a test vault, and does not count towards your final score.'}"
     },
     "execution_count": 39,
     "metadata": {},
     "output_type": "execute_result"
    }
   ],
   "source": [
    "sv.state()"
   ],
   "metadata": {
    "collapsed": false,
    "ExecuteTime": {
     "end_time": "2024-02-03T22:47:56.346288Z",
     "start_time": "2024-02-03T22:47:56.118705Z"
    }
   },
   "id": "479398374761b5be",
   "execution_count": 39
  },
  {
   "cell_type": "code",
   "outputs": [],
   "source": [],
   "metadata": {
    "collapsed": false
   },
   "id": "83aa73742bae5500"
  }
 ],
 "metadata": {
  "kernelspec": {
   "display_name": "Python 3",
   "language": "python",
   "name": "python3"
  },
  "language_info": {
   "codemirror_mode": {
    "name": "ipython",
    "version": 2
   },
   "file_extension": ".py",
   "mimetype": "text/x-python",
   "name": "python",
   "nbconvert_exporter": "python",
   "pygments_lexer": "ipython2",
   "version": "2.7.6"
  }
 },
 "nbformat": 4,
 "nbformat_minor": 5
}
