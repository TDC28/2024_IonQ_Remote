{
 "cells": [
  {
   "cell_type": "code",
   "execution_count": 1,
   "id": "initial_id",
   "metadata": {
    "collapsed": true,
    "ExecuteTime": {
     "end_time": "2024-02-04T06:44:00.019333Z",
     "start_time": "2024-02-04T06:43:56.802576Z"
    }
   },
   "outputs": [],
   "source": [
    "import server\n",
    "from qiskit import QuantumCircuit\n",
    "# import matplotlib.pyplot as plt\n",
    "from collections import defaultdict\n",
    "from functions import *"
   ]
  },
  {
   "cell_type": "code",
   "outputs": [],
   "source": [
    "sv = server.Server()"
   ],
   "metadata": {
    "collapsed": false,
    "ExecuteTime": {
     "end_time": "2024-02-04T06:44:03.857520Z",
     "start_time": "2024-02-04T06:44:03.849613Z"
    }
   },
   "id": "5ca3255d1b3b4a2f",
   "execution_count": 2
  },
  {
   "cell_type": "code",
   "outputs": [
    {
     "data": {
      "text/plain": "{'team': 'Qnonymous',\n 'totalAvgScore': 0.3847970606629143,\n 'topVaultScores': [0.8,\n  0.359,\n  0.152,\n  0,\n  0,\n  0.9230769230769231,\n  0,\n  0.002,\n  0,\n  0.8555,\n  0.941,\n  0.6404878048780488,\n  0.7445],\n 'probesRemaining': [34, 12, 15, 18, 20, 5, 20, 14, 20, 11, 10, 4, 1],\n 'attacksRemaining': [36, 19, 19, 20, 20, 16, 20, 19, 20, 18, 16, 18, 18],\n 'reminder': 'Vault index 0 is a test vault, and does not count towards your final score.'}"
     },
     "execution_count": 24,
     "metadata": {},
     "output_type": "execute_result"
    }
   ],
   "source": [
    "sv.state()"
   ],
   "metadata": {
    "collapsed": false,
    "ExecuteTime": {
     "end_time": "2024-02-04T07:09:38.214955Z",
     "start_time": "2024-02-04T07:09:37.823486Z"
    }
   },
   "id": "59e29cf8d9a16304",
   "execution_count": 24
  },
  {
   "cell_type": "code",
   "outputs": [
    {
     "data": {
      "text/plain": "<Figure size 454.719x535.111 with 1 Axes>",
      "image/png": "[encoded data removed]"
     },
     "execution_count": 20,
     "metadata": {},
     "output_type": "execute_result"
    }
   ],
   "source": [
    "qc = QuantumCircuit(6)\n",
    "\n",
    "for i in range(1, 6):\n",
    "    qc.h(i)\n",
    "\n",
    "qc.x(3)\n",
    "qc.x(4)\n",
    "qc.x(5)\n",
    "qc.cx(2, 3)\n",
    "qc.cx(3, 2)\n",
    "\n",
    "qc.draw()"
   ],
   "metadata": {
    "collapsed": false,
    "ExecuteTime": {
     "end_time": "2024-02-04T06:59:45.814901Z",
     "start_time": "2024-02-04T06:59:45.340507Z"
    }
   },
   "id": "a18710cd8a5daaff",
   "execution_count": 20
  },
  {
   "cell_type": "code",
   "outputs": [
    {
     "data": {
      "text/plain": "{'0': 0.155,\n '1': 0.035,\n '2': 0.005,\n '3': 0.005,\n '5': 0.02,\n '6': 0.03,\n '7': 0.01,\n '8': 0.085,\n '9': 0.005,\n '10': 0.05,\n '11': 0.01,\n '12': 0.06,\n '13': 0.025,\n '15': 0.015,\n '16': 0.055,\n '17': 0.005,\n '18': 0.005,\n '20': 0.015,\n '21': 0.02,\n '22': 0.025,\n '23': 0.005,\n '24': 0.03,\n '25': 0.005,\n '26': 0.025,\n '28': 0.04,\n '30': 0.035,\n '32': 0.015,\n '34': 0.01,\n '35': 0.005,\n '36': 0.005,\n '37': 0.005,\n '38': 0.005,\n '39': 0.005,\n '40': 0.01,\n '41': 0.005,\n '42': 0.015,\n '44': 0.015,\n '46': 0.015,\n '47': 0.01,\n '48': 0.015,\n '49': 0.005,\n '50': 0.005,\n '51': 0.01,\n '52': 0.005,\n '54': 0.005,\n '55': 0.01,\n '56': 0.005,\n '57': 0.005,\n '58': 0.01,\n '60': 0.02,\n '61': 0.005,\n '63': 0.005}"
     },
     "execution_count": 21,
     "metadata": {},
     "output_type": "execute_result"
    }
   ],
   "source": [
    "sv.probe(vault_index=2, circuit=qc.qasm())"
   ],
   "metadata": {
    "collapsed": false,
    "ExecuteTime": {
     "end_time": "2024-02-04T07:00:00.597453Z",
     "start_time": "2024-02-04T06:59:53.389495Z"
    }
   },
   "id": "ebe03f9815f5190b",
   "execution_count": 21
  },
  {
   "cell_type": "code",
   "outputs": [
    {
     "data": {
      "text/plain": "{0: 0.7750000000000002,\n 1: 0.5200000000000001,\n 2: 0.4550000000000002,\n 3: 0.46500000000000014,\n 4: 0.5700000000000001,\n 5: 0.5700000000000001}"
     },
     "execution_count": 6,
     "metadata": {},
     "output_type": "execute_result"
    }
   ],
   "source": [
    "probability({'0': 0.035,\n",
    " '1': 0.005,\n",
    " '2': 0.005,\n",
    " '5': 0.065,\n",
    " '6': 0.045,\n",
    " '7': 0.01,\n",
    " '8': 0.015,\n",
    " '9': 0.025,\n",
    " '10': 0.03,\n",
    " '11': 0.005,\n",
    " '12': 0.065,\n",
    " '13': 0.025,\n",
    " '14': 0.05,\n",
    " '15': 0.02,\n",
    " '16': 0.09,\n",
    " '17': 0.015,\n",
    " '18': 0.01,\n",
    " '19': 0.035,\n",
    " '20': 0.02,\n",
    " '21': 0.005,\n",
    " '23': 0.015,\n",
    " '25': 0.05,\n",
    " '27': 0.005,\n",
    " '28': 0.02,\n",
    " '29': 0.04,\n",
    " '30': 0.05,\n",
    " '31': 0.02,\n",
    " '32': 0.005,\n",
    " '33': 0.01,\n",
    " '34': 0.025,\n",
    " '35': 0.015,\n",
    " '36': 0.005,\n",
    " '38': 0.005,\n",
    " '40': 0.005,\n",
    " '41': 0.005,\n",
    " '42': 0.02,\n",
    " '43': 0.015,\n",
    " '45': 0.01,\n",
    " '49': 0.015,\n",
    " '52': 0.005,\n",
    " '54': 0.015,\n",
    " '56': 0.005,\n",
    " '58': 0.015,\n",
    " '59': 0.005,\n",
    " '60': 0.015,\n",
    " '61': 0.015,\n",
    " '62': 0.015}, 6)"
   ],
   "metadata": {
    "collapsed": false,
    "ExecuteTime": {
     "end_time": "2024-02-04T06:46:54.918301Z",
     "start_time": "2024-02-04T06:46:54.905747Z"
    }
   },
   "id": "6e997534f39620d3",
   "execution_count": 6
  },
  {
   "cell_type": "code",
   "outputs": [
    {
     "data": {
      "text/plain": "{0: 0.7750000000000002,\n 1: 0.6300000000000002,\n 2: 0.5900000000000002,\n 3: 0.5750000000000002,\n 4: 0.3700000000000001,\n 5: 0.2450000000000001}"
     },
     "execution_count": 9,
     "metadata": {},
     "output_type": "execute_result"
    }
   ],
   "source": [
    "probability({'0': 0.04,\n",
    " '2': 0.025,\n",
    " '3': 0.075,\n",
    " '4': 0.01,\n",
    " '5': 0.005,\n",
    " '6': 0.035,\n",
    " '7': 0.14,\n",
    " '9': 0.045,\n",
    " '11': 0.1,\n",
    " '13': 0.035,\n",
    " '17': 0.07,\n",
    " '19': 0.04,\n",
    " '20': 0.015,\n",
    " '22': 0.005,\n",
    " '24': 0.005,\n",
    " '25': 0.035,\n",
    " '27': 0.035,\n",
    " '28': 0.015,\n",
    " '29': 0.01,\n",
    " '30': 0.015,\n",
    " '31': 0.02,\n",
    " '32': 0.015,\n",
    " '35': 0.01,\n",
    " '36': 0.005,\n",
    " '39': 0.035,\n",
    " '40': 0.005,\n",
    " '41': 0.01,\n",
    " '42': 0.01,\n",
    " '43': 0.005,\n",
    " '44': 0.015,\n",
    " '47': 0.01,\n",
    " '48': 0.01,\n",
    " '49': 0.005,\n",
    " '51': 0.005,\n",
    " '53': 0.005,\n",
    " '54': 0.01,\n",
    " '55': 0.03,\n",
    " '57': 0.01,\n",
    " '58': 0.01,\n",
    " '59': 0.01,\n",
    " '61': 0.005,\n",
    " '63': 0.005}, 6)"
   ],
   "metadata": {
    "collapsed": false,
    "ExecuteTime": {
     "end_time": "2024-02-04T06:48:00.634919Z",
     "start_time": "2024-02-04T06:48:00.615944Z"
    }
   },
   "id": "97dfcb622f1a06df",
   "execution_count": 9
  },
  {
   "cell_type": "code",
   "outputs": [
    {
     "data": {
      "text/plain": "{0: 0.7750000000000002,\n 1: 0.6300000000000001,\n 2: 0.5900000000000001,\n 3: 0.5750000000000001,\n 4: 0.3700000000000001,\n 5: 0.7850000000000003}"
     },
     "execution_count": 12,
     "metadata": {},
     "output_type": "execute_result"
    }
   ],
   "source": [
    "probability({'1': 0.04,\n",
    " '2': 0.055,\n",
    " '3': 0.045,\n",
    " '4': 0.01,\n",
    " '5': 0.005,\n",
    " '6': 0.135,\n",
    " '7': 0.04,\n",
    " '8': 0.035,\n",
    " '9': 0 .01,\n",
    " '10': 0.1,\n",
    " '12': 0.035,\n",
    " '16': 0.07,\n",
    " '18': 0.04,\n",
    " '20': 0.015,\n",
    " '22': 0.005,\n",
    " '24': 0.04,\n",
    " '26': 0.025,\n",
    " '27': 0.01,\n",
    " '28': 0.01,\n",
    " '29': 0.015,\n",
    " '30': 0.015,\n",
    " '31': 0.02,\n",
    " '32': 0.015,\n",
    " '35': 0.01,\n",
    " '36': 0.005,\n",
    " '38': 0.035,\n",
    " '40': 0.015,\n",
    " '42': 0.015,\n",
    " '44': 0.015,\n",
    " '46': 0.01,\n",
    " '48': 0.015,\n",
    " '51': 0.005,\n",
    " '53': 0.005,\n",
    " '54': 0.035,\n",
    " '55': 0.005,\n",
    " '56': 0.01,\n",
    " '58': 0.02,\n",
    " '60': 0.005,\n",
    " '63': 0.005}, 6)"
   ],
   "metadata": {
    "collapsed": false,
    "ExecuteTime": {
     "end_time": "2024-02-04T06:49:55.921349Z",
     "start_time": "2024-02-04T06:49:55.869380Z"
    }
   },
   "id": "f220fc9d6f7c3275",
   "execution_count": 12
  },
  {
   "cell_type": "code",
   "outputs": [
    {
     "name": "stdout",
     "output_type": "stream",
     "text": [
      "['000001', '000010', '000011', '000100', '000101', '000110', '000111', '001000', '001001', '001010', '001100', '010000', '010010', '010100', '010110', '011000', '011010', '011011', '011100', '011101', '011110', '011111', '100000', '100011', '100100', '100110', '101000', '101010', '101100', '101110', '110000', '110011', '110101', '110110', '110111', '111000', '111010', '111100', '111111']\n"
     ]
    },
    {
     "data": {
      "text/plain": "<Figure size 640x480 with 1 Axes>",
      "image/png": "[encoded data removed]"
     },
     "metadata": {},
     "output_type": "display_data"
    }
   ],
   "source": [
    "plot_good({'1': 0.04,\n",
    " '2': 0.055,\n",
    " '3': 0.045,\n",
    " '4': 0.01,\n",
    " '5': 0.005,\n",
    " '6': 0.135,\n",
    " '7': 0.04,\n",
    " '8': 0.035,\n",
    " '9': 0.01,\n",
    " '10': 0.1,\n",
    " '12': 0.035,\n",
    " '16': 0.07,\n",
    " '18': 0.04,\n",
    " '20': 0.015,\n",
    " '22': 0.005,\n",
    " '24': 0.04,\n",
    " '26': 0.025,\n",
    " '27': 0.01,\n",
    " '28': 0.01,\n",
    " '29': 0.015,\n",
    " '30': 0.015,\n",
    " '31': 0.02,\n",
    " '32': 0.015,\n",
    " '35': 0.01,\n",
    " '36': 0.005,\n",
    " '38': 0.035,\n",
    " '40': 0.015,\n",
    " '42': 0.015,\n",
    " '44': 0.015,\n",
    " '46': 0.01,\n",
    " '48': 0.015,\n",
    " '51': 0.005,\n",
    " '53': 0.005,\n",
    " '54': 0.035,\n",
    " '55': 0.005,\n",
    " '56': 0.01,\n",
    " '58': 0.02,\n",
    " '60': 0.005,\n",
    " '63': 0.005}, 6)"
   ],
   "metadata": {
    "collapsed": false,
    "ExecuteTime": {
     "end_time": "2024-02-04T06:50:17.389214Z",
     "start_time": "2024-02-04T06:50:17.175836Z"
    }
   },
   "id": "7e9ed56508620b47",
   "execution_count": 13
  },
  {
   "cell_type": "code",
   "outputs": [
    {
     "data": {
      "text/plain": "{0: 0.7750000000000002,\n 1: 0.6300000000000001,\n 2: 0.5900000000000001,\n 3: 0.4700000000000002,\n 4: 0.7100000000000002,\n 5: 0.7750000000000001}"
     },
     "execution_count": 16,
     "metadata": {},
     "output_type": "execute_result"
    }
   ],
   "source": [
    "probability({'0': 0.155,\n",
    " '1': 0.035,\n",
    " '2': 0.005,\n",
    " '3': 0.005,\n",
    " '4': 0.065,\n",
    " '5': 0.04,\n",
    " '7': 0.025,\n",
    " '9': 0.005,\n",
    " '10': 0.03,\n",
    " '12': 0.105,\n",
    " '14': 0.04,\n",
    " '16': 0.055,\n",
    " '17': 0.005,\n",
    " '18': 0.005,\n",
    " '20': 0.04,\n",
    " '22': 0.025,\n",
    " '24': 0.02,\n",
    " '25': 0.02,\n",
    " '26': 0.01,\n",
    " '27': 0.01,\n",
    " '28': 0.04,\n",
    " '30': 0.035,\n",
    " '32': 0.015,\n",
    " '34': 0.01,\n",
    " '35': 0.005,\n",
    " '36': 0.01,\n",
    " '37': 0.005,\n",
    " '38': 0.01,\n",
    " '39': 0.01,\n",
    " '40': 0.015,\n",
    " '42': 0.01,\n",
    " '44': 0.005,\n",
    " '45': 0.015,\n",
    " '46': 0.01,\n",
    " '48': 0.015,\n",
    " '49': 0.005,\n",
    " '50': 0.005,\n",
    " '51': 0.01,\n",
    " '52': 0.005,\n",
    " '53': 0.015,\n",
    " '54': 0.005,\n",
    " '55': 0.005,\n",
    " '56': 0.01,\n",
    " '59': 0.01,\n",
    " '60': 0.01,\n",
    " '62': 0.01}, 6)"
   ],
   "metadata": {
    "collapsed": false,
    "ExecuteTime": {
     "end_time": "2024-02-04T06:51:46.884189Z",
     "start_time": "2024-02-04T06:51:46.871063Z"
    }
   },
   "id": "9ea9051eafa18d1",
   "execution_count": 16
  },
  {
   "cell_type": "code",
   "outputs": [
    {
     "name": "stdout",
     "output_type": "stream",
     "text": [
      "['000000', '000001', '000010', '000011', '000100', '000101', '000111', '001001', '001010', '001100', '001110', '010000', '010001', '010010', '010100', '010110', '011000', '011001', '011010', '011011', '011100', '011110', '100000', '100010', '100011', '100100', '100101', '100110', '100111', '101000', '101010', '101100', '101101', '101110', '110000', '110001', '110010', '110011', '110100', '110101', '110110', '110111', '111000', '111011', '111100', '111110']\n"
     ]
    },
    {
     "data": {
      "text/plain": "<Figure size 640x480 with 1 Axes>",
      "image/png": "[encoded data removed]"
     },
     "metadata": {},
     "output_type": "display_data"
    }
   ],
   "source": [
    "plot_good({'0': 0.155,\n",
    " '1': 0.035,\n",
    " '2': 0.005,\n",
    " '3': 0.005,\n",
    " '4': 0.065,\n",
    " '5': 0.04,\n",
    " '7': 0.025,\n",
    " '9': 0.005,\n",
    " '10': 0.03,\n",
    " '12': 0.105,\n",
    " '14': 0.04,\n",
    " '16': 0.055,\n",
    " '17': 0.005,\n",
    " '18': 0.005,\n",
    " '20': 0.04,\n",
    " '22': 0.025,\n",
    " '24': 0.02,\n",
    " '25': 0.02,\n",
    " '26': 0.01,\n",
    " '27': 0.01,\n",
    " '28': 0.04,\n",
    " '30': 0.035,\n",
    " '32': 0.015,\n",
    " '34': 0.01,\n",
    " '35': 0.005,\n",
    " '36': 0.01,\n",
    " '37': 0.005,\n",
    " '38': 0.01,\n",
    " '39': 0.01,\n",
    " '40': 0.015,\n",
    " '42': 0.01,\n",
    " '44': 0.005,\n",
    " '45': 0.015,\n",
    " '46': 0.01,\n",
    " '48': 0.015,\n",
    " '49': 0.005,\n",
    " '50': 0.005,\n",
    " '51': 0.01,\n",
    " '52': 0.005,\n",
    " '53': 0.015,\n",
    " '54': 0.005,\n",
    " '55': 0.005,\n",
    " '56': 0.01,\n",
    " '59': 0.01,\n",
    " '60': 0.01,\n",
    " '62': 0.01}, 6)"
   ],
   "metadata": {
    "collapsed": false,
    "ExecuteTime": {
     "end_time": "2024-02-04T06:51:59.775539Z",
     "start_time": "2024-02-04T06:51:59.543119Z"
    }
   },
   "id": "42b37e70c32159a6",
   "execution_count": 17
  },
  {
   "cell_type": "code",
   "outputs": [
    {
     "data": {
      "text/plain": "{'rawScore': 0.152, 'costFactor': 1, 'score': 0.152}"
     },
     "execution_count": 18,
     "metadata": {},
     "output_type": "execute_result"
    }
   ],
   "source": [
    "sv.attack(vault_index=2, circuit=qc.qasm())"
   ],
   "metadata": {
    "collapsed": false,
    "ExecuteTime": {
     "end_time": "2024-02-04T06:52:58.143856Z",
     "start_time": "2024-02-04T06:52:49.498888Z"
    }
   },
   "id": "ac66dd98bf8cfa87",
   "execution_count": 18
  },
  {
   "cell_type": "code",
   "outputs": [
    {
     "data": {
      "text/plain": "{0: 0.7750000000000002,\n 1: 0.6300000000000001,\n 2: 0.5900000000000001,\n 3: 0.4700000000000002,\n 4: 0.7100000000000002,\n 5: 0.7750000000000001}"
     },
     "execution_count": 19,
     "metadata": {},
     "output_type": "execute_result"
    }
   ],
   "source": [
    "probability({'0': 0.155,\n",
    " '1': 0.035,\n",
    " '2': 0.005,\n",
    " '3': 0.005,\n",
    " '4': 0.065,\n",
    " '5': 0.04,\n",
    " '7': 0.025,\n",
    " '9': 0.005,\n",
    " '10': 0.03,\n",
    " '12': 0.105,\n",
    " '14': 0.04,\n",
    " '16': 0.055,\n",
    " '17': 0.005,\n",
    " '18': 0.005,\n",
    " '20': 0.04,\n",
    " '22': 0.025,\n",
    " '24': 0.02,\n",
    " '25': 0.02,\n",
    " '26': 0.01,\n",
    " '27': 0.01,\n",
    " '28': 0.04,\n",
    " '30': 0.035,\n",
    " '32': 0.015,\n",
    " '34': 0.01,\n",
    " '35': 0.005,\n",
    " '36': 0.01,\n",
    " '37': 0.005,\n",
    " '38': 0.01,\n",
    " '39': 0.01,\n",
    " '40': 0.015,\n",
    " '42': 0.01,\n",
    " '44': 0.005,\n",
    " '45': 0.015,\n",
    " '46': 0.01,\n",
    " '48': 0.015,\n",
    " '49': 0.005,\n",
    " '50': 0.005,\n",
    " '51': 0.01,\n",
    " '52': 0.005,\n",
    " '53': 0.015,\n",
    " '54': 0.005,\n",
    " '55': 0.005,\n",
    " '56': 0.01,\n",
    " '59': 0.01,\n",
    " '60': 0.01,\n",
    " '62': 0.01}, 6)"
   ],
   "metadata": {
    "collapsed": false,
    "ExecuteTime": {
     "end_time": "2024-02-04T06:58:52.440790Z",
     "start_time": "2024-02-04T06:58:52.433093Z"
    }
   },
   "id": "6bc44d9c079d9ca6",
   "execution_count": 19
  },
  {
   "cell_type": "code",
   "outputs": [
    {
     "data": {
      "text/plain": "{0: 0.7750000000000002,\n 1: 0.6300000000000001,\n 2: 0.49500000000000016,\n 3: 0.5900000000000002,\n 4: 0.6700000000000002,\n 5: 0.7700000000000002}"
     },
     "execution_count": 22,
     "metadata": {},
     "output_type": "execute_result"
    }
   ],
   "source": [
    "probability({'0': 0.155,\n",
    " '1': 0.035,\n",
    " '2': 0.005,\n",
    " '3': 0.005,\n",
    " '5': 0.02,\n",
    " '6': 0.03,\n",
    " '7': 0.01,\n",
    " '8': 0.085,\n",
    " '9': 0.005,\n",
    " '10': 0.05,\n",
    " '11': 0.01,\n",
    " '12': 0.06,\n",
    " '13': 0.025,\n",
    " '15': 0.015,\n",
    " '16': 0.055,\n",
    " '17': 0.005,\n",
    " '18': 0.005,\n",
    " '20': 0.015,\n",
    " '21': 0.02,\n",
    " '22': 0.025,\n",
    " '23': 0.005,\n",
    " '24': 0.03,\n",
    " '25': 0.005,\n",
    " '26': 0.025,\n",
    " '28': 0.04,\n",
    " '30': 0.035,\n",
    " '32': 0.015,\n",
    " '34': 0.01,\n",
    " '35': 0.005,\n",
    " '36': 0.005,\n",
    " '37': 0.005,\n",
    " '38': 0.005,\n",
    " '39': 0.005,\n",
    " '40': 0.01,\n",
    " '41': 0.005,\n",
    " '42': 0.015,\n",
    " '44': 0.015,\n",
    " '46': 0.015,\n",
    " '47': 0.01,\n",
    " '48': 0.015,\n",
    " '49': 0.005,\n",
    " '50': 0.005,\n",
    " '51': 0.01,\n",
    " '52': 0.005,\n",
    " '54': 0.005,\n",
    " '55': 0.01,\n",
    " '56': 0.005,\n",
    " '57': 0.005,\n",
    " '58': 0.01,\n",
    " '60': 0.02,\n",
    " '61': 0.005,\n",
    " '63': 0.005}, 6)"
   ],
   "metadata": {
    "collapsed": false,
    "ExecuteTime": {
     "end_time": "2024-02-04T07:00:42.299035Z",
     "start_time": "2024-02-04T07:00:42.295194Z"
    }
   },
   "id": "f64bd0a065944000",
   "execution_count": 22
  },
  {
   "cell_type": "code",
   "outputs": [
    {
     "name": "stdout",
     "output_type": "stream",
     "text": [
      "['000000', '000001', '000010', '000011', '000101', '000110', '000111', '001000', '001001', '001010', '001011', '001100', '001101', '001111', '010000', '010001', '010010', '010100', '010101', '010110', '010111', '011000', '011001', '011010', '011100', '011110', '100000', '100010', '100011', '100100', '100101', '100110', '100111', '101000', '101001', '101010', '101100', '101110', '101111', '110000', '110001', '110010', '110011', '110100', '110110', '110111', '111000', '111001', '111010', '111100', '111101', '111111']\n"
     ]
    },
    {
     "data": {
      "text/plain": "<Figure size 640x480 with 1 Axes>",
      "image/png": "[encoded data removed]"
     },
     "metadata": {},
     "output_type": "display_data"
    }
   ],
   "source": [
    "plot_good({'0': 0.155,\n",
    " '1': 0.035,\n",
    " '2': 0.005,\n",
    " '3': 0.005,\n",
    " '5': 0.02,\n",
    " '6': 0.03,\n",
    " '7': 0.01,\n",
    " '8': 0.085,\n",
    " '9': 0.005,\n",
    " '10': 0.05,\n",
    " '11': 0.01,\n",
    " '12': 0.06,\n",
    " '13': 0.025,\n",
    " '15': 0.015,\n",
    " '16': 0.055,\n",
    " '17': 0.005,\n",
    " '18': 0.005,\n",
    " '20': 0.015,\n",
    " '21': 0.02,\n",
    " '22': 0.025,\n",
    " '23': 0.005,\n",
    " '24': 0.03,\n",
    " '25': 0.005,\n",
    " '26': 0.025,\n",
    " '28': 0.04,\n",
    " '30': 0.035,\n",
    " '32': 0.015,\n",
    " '34': 0.01,\n",
    " '35': 0.005,\n",
    " '36': 0.005,\n",
    " '37': 0.005,\n",
    " '38': 0.005,\n",
    " '39': 0.005,\n",
    " '40': 0.01,\n",
    " '41': 0.005,\n",
    " '42': 0.015,\n",
    " '44': 0.015,\n",
    " '46': 0.015,\n",
    " '47': 0.01,\n",
    " '48': 0.015,\n",
    " '49': 0.005,\n",
    " '50': 0.005,\n",
    " '51': 0.01,\n",
    " '52': 0.005,\n",
    " '54': 0.005,\n",
    " '55': 0.01,\n",
    " '56': 0.005,\n",
    " '57': 0.005,\n",
    " '58': 0.01,\n",
    " '60': 0.02,\n",
    " '61': 0.005,\n",
    " '63': 0.005}, 6)"
   ],
   "metadata": {
    "collapsed": false,
    "ExecuteTime": {
     "end_time": "2024-02-04T07:00:48.500090Z",
     "start_time": "2024-02-04T07:00:48.288390Z"
    }
   },
   "id": "d165e2ce36cf5572",
   "execution_count": 23
  },
  {
   "cell_type": "code",
   "outputs": [],
   "source": [],
   "metadata": {
    "collapsed": false
   },
   "id": "1c6e99a7a4bbc0dc"
  }
 ],
 "metadata": {
  "kernelspec": {
   "display_name": "Python 3",
   "language": "python",
   "name": "python3"
  },
  "language_info": {
   "codemirror_mode": {
    "name": "ipython",
    "version": 2
   },
   "file_extension": ".py",
   "mimetype": "text/x-python",
   "name": "python",
   "nbconvert_exporter": "python",
   "pygments_lexer": "ipython2",
   "version": "2.7.6"
  }
 },
 "nbformat": 4,
 "nbformat_minor": 5
}
