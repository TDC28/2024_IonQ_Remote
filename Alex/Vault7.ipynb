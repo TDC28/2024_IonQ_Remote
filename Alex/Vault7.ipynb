{
 "cells": [
  {
   "cell_type": "code",
   "execution_count": 28,
   "id": "initial_id",
   "metadata": {
    "collapsed": true,
    "ExecuteTime": {
     "end_time": "2024-02-04T04:32:02.147059Z",
     "start_time": "2024-02-04T04:32:02.130761Z"
    }
   },
   "outputs": [],
   "source": [
    "import server\n",
    "from qiskit import QuantumCircuit\n",
    "import matplotlib.pyplot as plt\n",
    "from collections import defaultdict"
   ]
  },
  {
   "cell_type": "code",
   "outputs": [],
   "source": [
    "sv = server.Server()"
   ],
   "metadata": {
    "collapsed": false,
    "ExecuteTime": {
     "end_time": "2024-02-04T00:28:22.406862Z",
     "start_time": "2024-02-04T00:28:22.395254Z"
    }
   },
   "id": "c04b1ac826b4fc3f",
   "execution_count": 16
  },
  {
   "cell_type": "code",
   "outputs": [
    {
     "data": {
      "text/plain": "<Figure size 180.31x1204 with 1 Axes>",
      "image/png": "[encoded data removed]"
     },
     "execution_count": 20,
     "metadata": {},
     "output_type": "execute_result"
    }
   ],
   "source": [
    "qc = QuantumCircuit(14)\n",
    "\n",
    "qc.draw()\n"
   ],
   "metadata": {
    "collapsed": false,
    "ExecuteTime": {
     "end_time": "2024-02-04T04:25:41.055306Z",
     "start_time": "2024-02-04T04:25:40.830233Z"
    }
   },
   "id": "423a59b445226a45",
   "execution_count": 20
  },
  {
   "cell_type": "code",
   "outputs": [
    {
     "data": {
      "text/plain": "{'4': 0.005,\n '11': 0.005,\n '18': 0.005,\n '19': 0.01,\n '20': 0.01,\n '32': 0.005,\n '40': 0.005,\n '55': 0.005,\n '59': 0.005,\n '61': 0.005,\n '65': 0.005,\n '70': 0.005,\n '72': 0.005,\n '89': 0.005,\n '96': 0.005,\n '98': 0.005,\n '99': 0.005,\n '102': 0.005,\n '104': 0.005,\n '113': 0.005,\n '121': 0.01,\n '123': 0.005,\n '126': 0.005,\n '132': 0.005,\n '134': 0.005,\n '138': 0.005,\n '141': 0.005,\n '146': 0.005,\n '153': 0.005,\n '162': 0.005,\n '165': 0.005,\n '166': 0.005,\n '168': 0.005,\n '175': 0.005,\n '187': 0.005,\n '190': 0.005,\n '201': 0.005,\n '204': 0.005,\n '213': 0.005,\n '214': 0.005,\n '215': 0.005,\n '228': 0.005,\n '229': 0.005,\n '232': 0.005,\n '243': 0.005,\n '250': 0.005,\n '254': 0.005,\n '259': 0.005,\n '260': 0.005,\n '270': 0.005,\n '271': 0.005,\n '276': 0.005,\n '289': 0.005,\n '296': 0.005,\n '297': 0.005,\n '303': 0.005,\n '304': 0.005,\n '305': 0.005,\n '308': 0.005,\n '319': 0.005,\n '322': 0.005,\n '325': 0.005,\n '326': 0.005,\n '353': 0.005,\n '368': 0.01,\n '372': 0.005,\n '376': 0.005,\n '377': 0.005,\n '392': 0.005,\n '406': 0.005,\n '407': 0.005,\n '416': 0.005,\n '424': 0.01,\n '433': 0.005,\n '434': 0.005,\n '439': 0.005,\n '441': 0.005,\n '444': 0.005,\n '446': 0.005,\n '447': 0.005,\n '448': 0.005,\n '449': 0.005,\n '457': 0.005,\n '464': 0.005,\n '467': 0.005,\n '472': 0.005,\n '477': 0.005,\n '479': 0.005,\n '502': 0.005,\n '513': 0.005,\n '533': 0.005,\n '534': 0.005,\n '535': 0.005,\n '541': 0.005,\n '548': 0.005,\n '557': 0.005,\n '561': 0.005,\n '580': 0.005,\n '581': 0.005,\n '582': 0.01,\n '583': 0.01,\n '585': 0.005,\n '588': 0.005,\n '589': 0.01,\n '591': 0.005,\n '595': 0.005,\n '600': 0.005,\n '604': 0.005,\n '605': 0.005,\n '606': 0.005,\n '617': 0.005,\n '619': 0.005,\n '620': 0.005,\n '626': 0.005,\n '628': 0.005,\n '630': 0.005,\n '631': 0.005,\n '632': 0.01,\n '636': 0.005,\n '655': 0.005,\n '659': 0.005,\n '661': 0.005,\n '667': 0.005,\n '668': 0.01,\n '672': 0.005,\n '676': 0.005,\n '682': 0.005,\n '683': 0.005,\n '686': 0.005,\n '694': 0.005,\n '698': 0.005,\n '709': 0.01,\n '714': 0.01,\n '716': 0.005,\n '720': 0.005,\n '721': 0.005,\n '731': 0.005,\n '732': 0.005,\n '733': 0.005,\n '739': 0.005,\n '742': 0.005,\n '747': 0.01,\n '752': 0.005,\n '757': 0.01,\n '792': 0.005,\n '796': 0.005,\n '799': 0.005,\n '810': 0.005,\n '812': 0.005,\n '818': 0.005,\n '825': 0.005,\n '826': 0.005,\n '833': 0.005,\n '840': 0.005,\n '848': 0.005,\n '852': 0.005,\n '858': 0.005,\n '866': 0.005,\n '868': 0.005,\n '876': 0.005,\n '887': 0.005,\n '888': 0.005,\n '890': 0.005,\n '902': 0.01,\n '913': 0.01,\n '918': 0.005,\n '941': 0.005,\n '947': 0.005,\n '950': 0.005,\n '951': 0.005,\n '956': 0.005,\n '966': 0.005,\n '967': 0.01,\n '975': 0.005,\n '979': 0.005,\n '985': 0.005,\n '986': 0.005,\n '998': 0.005,\n '999': 0.005,\n '1000': 0.005,\n '1002': 0.005,\n '1012': 0.005,\n '1022': 0.005}"
     },
     "execution_count": 21,
     "metadata": {},
     "output_type": "execute_result"
    }
   ],
   "source": [
    "sv.probe(vault_index=7, circuit=qc.qasm())"
   ],
   "metadata": {
    "collapsed": false,
    "ExecuteTime": {
     "end_time": "2024-02-04T04:26:03.444678Z",
     "start_time": "2024-02-04T04:25:55.102114Z"
    }
   },
   "id": "9ad5eef953f9ca25",
   "execution_count": 21
  },
  {
   "cell_type": "code",
   "outputs": [
    {
     "data": {
      "text/plain": "{'team': 'Qnonymous',\n 'totalAvgScore': 0.27413141025641025,\n 'topVaultScores': [0.8,\n  0,\n  0,\n  0,\n  0,\n  0.9230769230769231,\n  0,\n  0.002,\n  0,\n  0.8555,\n  0.941,\n  0,\n  0.568],\n 'probesRemaining': [34, 19, 20, 20, 20, 5, 20, 16, 20, 11, 10, 15, 12],\n 'attacksRemaining': [36, 20, 20, 20, 20, 16, 20, 19, 20, 18, 17, 20, 19],\n 'reminder': 'Vault index 0 is a test vault, and does not count towards your final score.'}"
     },
     "execution_count": 19,
     "metadata": {},
     "output_type": "execute_result"
    }
   ],
   "source": [
    "sv.state()"
   ],
   "metadata": {
    "collapsed": false,
    "ExecuteTime": {
     "end_time": "2024-02-04T04:18:31.546550Z",
     "start_time": "2024-02-04T04:18:31.118410Z"
    }
   },
   "id": "5649ed8cf68bbffe",
   "execution_count": 19
  },
  {
   "cell_type": "code",
   "outputs": [
    {
     "data": {
      "text/plain": "{'score': 0.002, 'costFactor': 1, 'rawScore': 0.002}"
     },
     "execution_count": 14,
     "metadata": {},
     "output_type": "execute_result"
    }
   ],
   "source": [
    "sv.attack(vault_index=7, circuit=qc.qasm())"
   ],
   "metadata": {
    "collapsed": false,
    "ExecuteTime": {
     "end_time": "2024-02-03T23:03:45.289074Z",
     "start_time": "2024-02-03T23:03:38.793165Z"
    }
   },
   "id": "a4af9ad06b2f88f8",
   "execution_count": 14
  },
  {
   "cell_type": "code",
   "outputs": [],
   "source": [
    "z_meas = {'4': 0.005,\n",
    " '11': 0.005,\n",
    " '18': 0.005,\n",
    " '19': 0.01,\n",
    " '20': 0.01,\n",
    " '32': 0.005,\n",
    " '40': 0.005,\n",
    " '55': 0.005,\n",
    " '59': 0.005,\n",
    " '61': 0.005,\n",
    " '65': 0.005,\n",
    " '70': 0.005,\n",
    " '72': 0.005,\n",
    " '89': 0.005,\n",
    " '96': 0.005,\n",
    " '98': 0.005,\n",
    " '99': 0.005,\n",
    " '102': 0.005,\n",
    " '104': 0.005,\n",
    " '113': 0.005,\n",
    " '121': 0.01,\n",
    " '123': 0.005,\n",
    " '126': 0.005,\n",
    " '132': 0.005,\n",
    " '134': 0.005,\n",
    " '138': 0.005,\n",
    " '141': 0.005,\n",
    " '146': 0.005,\n",
    " '153': 0.005,\n",
    " '162': 0.005,\n",
    " '165': 0.005,\n",
    " '166': 0.005,\n",
    " '168': 0.005,\n",
    " '175': 0.005,\n",
    " '187': 0.005,\n",
    " '190': 0.005,\n",
    " '201': 0.005,\n",
    " '204': 0.005,\n",
    " '213': 0.005,\n",
    " '214': 0.005,\n",
    " '215': 0.005,\n",
    " '228': 0.005,\n",
    " '229': 0.005,\n",
    " '232': 0.005,\n",
    " '243': 0.005,\n",
    " '250': 0.005,\n",
    " '254': 0.005,\n",
    " '259': 0.005,\n",
    " '260': 0.005,\n",
    " '270': 0.005,\n",
    " '271': 0.005,\n",
    " '276': 0.005,\n",
    " '289': 0.005,\n",
    " '296': 0.005,\n",
    " '297': 0.005,\n",
    " '303': 0.005,\n",
    " '304': 0.005,\n",
    " '305': 0.005,\n",
    " '308': 0.005,\n",
    " '319': 0.005,\n",
    " '322': 0.005,\n",
    " '325': 0.005,\n",
    " '326': 0.005,\n",
    " '353': 0.005,\n",
    " '368': 0.01,\n",
    " '372': 0.005,\n",
    " '376': 0.005,\n",
    " '377': 0.005,\n",
    " '392': 0.005,\n",
    " '406': 0.005,\n",
    " '407': 0.005,\n",
    " '416': 0.005,\n",
    " '424': 0.01,\n",
    " '433': 0.005,\n",
    " '434': 0.005,\n",
    " '439': 0.005,\n",
    " '441': 0.005,\n",
    " '444': 0.005,\n",
    " '446': 0.005,\n",
    " '447': 0.005,\n",
    " '448': 0.005,\n",
    " '449': 0.005,\n",
    " '457': 0.005,\n",
    " '464': 0.005,\n",
    " '467': 0.005,\n",
    " '472': 0.005,\n",
    " '477': 0.005,\n",
    " '479': 0.005,\n",
    " '502': 0.005,\n",
    " '513': 0.005,\n",
    " '533': 0.005,\n",
    " '534': 0.005,\n",
    " '535': 0.005,\n",
    " '541': 0.005,\n",
    " '548': 0.005,\n",
    " '557': 0.005,\n",
    " '561': 0.005,\n",
    " '580': 0.005,\n",
    " '581': 0.005,\n",
    " '582': 0.01,\n",
    " '583': 0.01,\n",
    " '585': 0.005,\n",
    " '588': 0.005,\n",
    " '589': 0.01,\n",
    " '591': 0.005,\n",
    " '595': 0.005,\n",
    " '600': 0.005,\n",
    " '604': 0.005,\n",
    " '605': 0.005,\n",
    " '606': 0.005,\n",
    " '617': 0.005,\n",
    " '619': 0.005,\n",
    " '620': 0.005,\n",
    " '626': 0.005,\n",
    " '628': 0.005,\n",
    " '630': 0.005,\n",
    " '631': 0.005,\n",
    " '632': 0.01,\n",
    " '636': 0.005,\n",
    " '655': 0.005,\n",
    " '659': 0.005,\n",
    " '661': 0.005,\n",
    " '667': 0.005,\n",
    " '668': 0.01,\n",
    " '672': 0.005,\n",
    " '676': 0.005,\n",
    " '682': 0.005,\n",
    " '683': 0.005,\n",
    " '686': 0.005,\n",
    " '694': 0.005,\n",
    " '698': 0.005,\n",
    " '709': 0.01,\n",
    " '714': 0.01,\n",
    " '716': 0.005,\n",
    " '720': 0.005,\n",
    " '721': 0.005,\n",
    " '731': 0.005,\n",
    " '732': 0.005,\n",
    " '733': 0.005,\n",
    " '739': 0.005,\n",
    " '742': 0.005,\n",
    " '747': 0.01,\n",
    " '752': 0.005,\n",
    " '757': 0.01,\n",
    " '792': 0.005,\n",
    " '796': 0.005,\n",
    " '799': 0.005,\n",
    " '810': 0.005,\n",
    " '812': 0.005,\n",
    " '818': 0.005,\n",
    " '825': 0.005,\n",
    " '826': 0.005,\n",
    " '833': 0.005,\n",
    " '840': 0.005,\n",
    " '848': 0.005,\n",
    " '852': 0.005,\n",
    " '858': 0.005,\n",
    " '866': 0.005,\n",
    " '868': 0.005,\n",
    " '876': 0.005,\n",
    " '887': 0.005,\n",
    " '888': 0.005,\n",
    " '890': 0.005,\n",
    " '902': 0.01,\n",
    " '913': 0.01,\n",
    " '918': 0.005,\n",
    " '941': 0.005,\n",
    " '947': 0.005,\n",
    " '950': 0.005,\n",
    " '951': 0.005,\n",
    " '956': 0.005,\n",
    " '966': 0.005,\n",
    " '967': 0.01,\n",
    " '975': 0.005,\n",
    " '979': 0.005,\n",
    " '985': 0.005,\n",
    " '986': 0.005,\n",
    " '998': 0.005,\n",
    " '999': 0.005,\n",
    " '1000': 0.005,\n",
    " '1002': 0.005,\n",
    " '1012': 0.005,\n",
    " '1022': 0.005}\n",
    "\n",
    "x_meas = {'51': 0.005,\n",
    " '95': 0.005,\n",
    " '139': 0.005,\n",
    " '140': 0.005,\n",
    " '142': 0.005,\n",
    " '178': 0.01,\n",
    " '258': 0.005,\n",
    " '336': 0.005,\n",
    " '446': 0.005,\n",
    " '477': 0.005,\n",
    " '486': 0.005,\n",
    " '1030': 0.005,\n",
    " '1083': 0.005,\n",
    " '1106': 0.005,\n",
    " '1236': 0.005,\n",
    " '1280': 0.005,\n",
    " '1289': 0.005,\n",
    " '1293': 0.005,\n",
    " '1338': 0.005,\n",
    " '1361': 0.005,\n",
    " '1412': 0.005,\n",
    " '1492': 0.005,\n",
    " '1494': 0.005,\n",
    " '1500': 0.005,\n",
    " '1515': 0.005,\n",
    " '2096': 0.005,\n",
    " '2107': 0.005,\n",
    " '2138': 0.005,\n",
    " '2149': 0.005,\n",
    " '2187': 0.005,\n",
    " '2260': 0.005,\n",
    " '2315': 0.005,\n",
    " '2356': 0.005,\n",
    " '2361': 0.005,\n",
    " '2386': 0.005,\n",
    " '2414': 0.005,\n",
    " '2526': 0.005,\n",
    " '2538': 0.005,\n",
    " '3157': 0.005,\n",
    " '3171': 0.005,\n",
    " '3255': 0.005,\n",
    " '3259': 0.005,\n",
    " '3261': 0.005,\n",
    " '3377': 0.005,\n",
    " '3381': 0.005,\n",
    " '3411': 0.005,\n",
    " '3470': 0.005,\n",
    " '3545': 0.005,\n",
    " '3562': 0.005,\n",
    " '4109': 0.005,\n",
    " '4145': 0.005,\n",
    " '4203': 0.005,\n",
    " '4207': 0.005,\n",
    " '4273': 0.005,\n",
    " '4358': 0.005,\n",
    " '4433': 0.005,\n",
    " '4436': 0.005,\n",
    " '4460': 0.005,\n",
    " '4482': 0.005,\n",
    " '4485': 0.005,\n",
    " '4531': 0.005,\n",
    " '4589': 0.005,\n",
    " '5131': 0.005,\n",
    " '5174': 0.005,\n",
    " '5176': 0.005,\n",
    " '5382': 0.005,\n",
    " '5504': 0.005,\n",
    " '5506': 0.005,\n",
    " '5553': 0.005,\n",
    " '5585': 0.005,\n",
    " '5590': 0.005,\n",
    " '6226': 0.005,\n",
    " '6328': 0.005,\n",
    " '6335': 0.005,\n",
    " '6403': 0.005,\n",
    " '6480': 0.005,\n",
    " '6482': 0.005,\n",
    " '6535': 0.005,\n",
    " '6536': 0.005,\n",
    " '6588': 0.005,\n",
    " '6615': 0.005,\n",
    " '6627': 0.005,\n",
    " '6633': 0.005,\n",
    " '6638': 0.005,\n",
    " '7168': 0.005,\n",
    " '7172': 0.005,\n",
    " '7255': 0.005,\n",
    " '7297': 0.005,\n",
    " '7308': 0.005,\n",
    " '7378': 0.005,\n",
    " '7398': 0.005,\n",
    " '7407': 0.005,\n",
    " '7608': 0.005,\n",
    " '8197': 0.005,\n",
    " '8374': 0.005,\n",
    " '8377': 0.005,\n",
    " '8383': 0.005,\n",
    " '8422': 0.005,\n",
    " '8497': 0.005,\n",
    " '8551': 0.005,\n",
    " '8583': 0.005,\n",
    " '9264': 0.005,\n",
    " '9270': 0.005,\n",
    " '9272': 0.005,\n",
    " '9275': 0.005,\n",
    " '9278': 0.005,\n",
    " '9279': 0.005,\n",
    " '9303': 0.005,\n",
    " '9312': 0.005,\n",
    " '9319': 0.01,\n",
    " '9324': 0.005,\n",
    " '9356': 0.005,\n",
    " '9426': 0.005,\n",
    " '9440': 0.005,\n",
    " '9444': 0.005,\n",
    " '9449': 0.005,\n",
    " '9556': 0.005,\n",
    " '9565': 0.005,\n",
    " '9571': 0.005,\n",
    " '9611': 0.005,\n",
    " '9650': 0.005,\n",
    " '9657': 0.005,\n",
    " '9662': 0.005,\n",
    " '9681': 0.005,\n",
    " '9683': 0.005,\n",
    " '9697': 0.005,\n",
    " '10349': 0.005,\n",
    " '10381': 0.005,\n",
    " '10421': 0.005,\n",
    " '10463': 0.005,\n",
    " '10467': 0.01,\n",
    " '10496': 0.005,\n",
    " '10544': 0.005,\n",
    " '10587': 0.005,\n",
    " '10589': 0.005,\n",
    " '10602': 0.005,\n",
    " '10680': 0.005,\n",
    " '10712': 0.005,\n",
    " '11316': 0.01,\n",
    " '11352': 0.005,\n",
    " '11353': 0.005,\n",
    " '11361': 0.005,\n",
    " '11395': 0.005,\n",
    " '11397': 0.005,\n",
    " '11485': 0.005,\n",
    " '11489': 0.005,\n",
    " '11494': 0.005,\n",
    " '11533': 0.005,\n",
    " '11578': 0.005,\n",
    " '11614': 0.01,\n",
    " '11651': 0.005,\n",
    " '11700': 0.005,\n",
    " '11701': 0.005,\n",
    " '12499': 0.005,\n",
    " '12515': 0.005,\n",
    " '12525': 0.005,\n",
    " '12634': 0.005,\n",
    " '12642': 0.005,\n",
    " '12681': 0.005,\n",
    " '12758': 0.005,\n",
    " '12762': 0.005,\n",
    " '13317': 0.005,\n",
    " '13394': 0.005,\n",
    " '13443': 0.005,\n",
    " '13490': 0.005,\n",
    " '13528': 0.005,\n",
    " '13578': 0.005,\n",
    " '13617': 0.005,\n",
    " '13665': 0.005,\n",
    " '13756': 0.005,\n",
    " '13779': 0.005,\n",
    " '13787': 0.005,\n",
    " '14392': 0.005,\n",
    " '14395': 0.005,\n",
    " '14468': 0.005,\n",
    " '14469': 0.005,\n",
    " '14520': 0.005,\n",
    " '14694': 0.005,\n",
    " '14735': 0.005,\n",
    " '14777': 0.005,\n",
    " '14782': 0.005,\n",
    " '14818': 0.005,\n",
    " '15417': 0.005,\n",
    " '15420': 0.005,\n",
    " '15421': 0.005,\n",
    " '15470': 0.005,\n",
    " '15500': 0.005,\n",
    " '15573': 0.005,\n",
    " '15579': 0.005,\n",
    " '15675': 0.005,\n",
    " '15679': 0.005,\n",
    " '15696': 0.005,\n",
    " '15704': 0.005,\n",
    " '15792': 0.005,\n",
    " '15851': 0.005} #incorrect"
   ],
   "metadata": {
    "collapsed": false,
    "ExecuteTime": {
     "end_time": "2024-02-04T00:31:08.645266Z",
     "start_time": "2024-02-04T00:31:08.585738Z"
    }
   },
   "id": "a7a77fe09b6bf981",
   "execution_count": 18
  },
  {
   "cell_type": "code",
   "outputs": [],
   "source": [
    "def plot(res):\n",
    "    # Convert keys to integers and sort them\n",
    "    keys_as_int = sorted(map(int, res.keys()))\n",
    "\n",
    "    # Convert integers to binary representation in big endian\n",
    "    binary_labels = [format(key, '013b') for key in keys_as_int]\n",
    "    print(binary_labels)\n",
    "\n",
    "    # Extract corresponding values\n",
    "    values = [res[str(key)] for key in keys_as_int]\n",
    "\n",
    "    # Plotting\n",
    "    plt.bar(binary_labels, values)\n",
    "    plt.xlabel('Binary Number (Big Endian)')\n",
    "    plt.ylabel('Value')\n",
    "    plt.title('Histogram of Result Object')\n",
    "    plt.show()\n",
    "    \n",
    "def probability(res):\n",
    "    keys_as_int = sorted(map(int, res.keys()))\n",
    "    ans = {}\n",
    "    \n",
    "    # Convert integers to binary representation in big endian\n",
    "    binary_labels = [format(key, '02b') for key in keys_as_int]\n",
    "    \n",
    "\n",
    "    for i in range(5):\n",
    "        for j in range(len(binary_labels)):\n",
    "            if binary_labels[j][i] == '0':\n",
    "                if 4-i in ans:\n",
    "                    ans[4-i] += res[str(keys_as_int[j])]\n",
    "                    \n",
    "                else:\n",
    "                    ans[4-i] = res[str(keys_as_int[j])]\n",
    "                    \n",
    "    return ans"
   ],
   "metadata": {
    "collapsed": false,
    "ExecuteTime": {
     "end_time": "2024-02-04T05:19:50.432859Z",
     "start_time": "2024-02-04T05:19:50.420372Z"
    }
   },
   "id": "b86708a50b6e7b6d",
   "execution_count": 34
  },
  {
   "cell_type": "code",
   "outputs": [
    {
     "name": "stdout",
     "output_type": "stream",
     "text": [
      "['0000000000100', '0000000001011', '0000000010010', '0000000010011', '0000000010100', '0000000100000', '0000000101000', '0000000110111', '0000000111011', '0000000111101', '0000001000001', '0000001000110', '0000001001000', '0000001011001', '0000001100000', '0000001100010', '0000001100011', '0000001100110', '0000001101000', '0000001110001', '0000001111001', '0000001111011', '0000001111110', '0000010000100', '0000010000110', '0000010001010', '0000010001101', '0000010010010', '0000010011001', '0000010100010', '0000010100101', '0000010100110', '0000010101000', '0000010101111', '0000010111011', '0000010111110', '0000011001001', '0000011001100', '0000011010101', '0000011010110', '0000011010111', '0000011100100', '0000011100101', '0000011101000', '0000011110011', '0000011111010', '0000011111110', '0000100000011', '0000100000100', '0000100001110', '0000100001111', '0000100010100', '0000100100001', '0000100101000', '0000100101001', '0000100101111', '0000100110000', '0000100110001', '0000100110100', '0000100111111', '0000101000010', '0000101000101', '0000101000110', '0000101100001', '0000101110000', '0000101110100', '0000101111000', '0000101111001', '0000110001000', '0000110010110', '0000110010111', '0000110100000', '0000110101000', '0000110110001', '0000110110010', '0000110110111', '0000110111001', '0000110111100', '0000110111110', '0000110111111', '0000111000000', '0000111000001', '0000111001001', '0000111010000', '0000111010011', '0000111011000', '0000111011101', '0000111011111', '0000111110110', '0001000000001', '0001000010101', '0001000010110', '0001000010111', '0001000011101', '0001000100100', '0001000101101', '0001000110001', '0001001000100', '0001001000101', '0001001000110', '0001001000111', '0001001001001', '0001001001100', '0001001001101', '0001001001111', '0001001010011', '0001001011000', '0001001011100', '0001001011101', '0001001011110', '0001001101001', '0001001101011', '0001001101100', '0001001110010', '0001001110100', '0001001110110', '0001001110111', '0001001111000', '0001001111100', '0001010001111', '0001010010011', '0001010010101', '0001010011011', '0001010011100', '0001010100000', '0001010100100', '0001010101010', '0001010101011', '0001010101110', '0001010110110', '0001010111010', '0001011000101', '0001011001010', '0001011001100', '0001011010000', '0001011010001', '0001011011011', '0001011011100', '0001011011101', '0001011100011', '0001011100110', '0001011101011', '0001011110000', '0001011110101', '0001100011000', '0001100011100', '0001100011111', '0001100101010', '0001100101100', '0001100110010', '0001100111001', '0001100111010', '0001101000001', '0001101001000', '0001101010000', '0001101010100', '0001101011010', '0001101100010', '0001101100100', '0001101101100', '0001101110111', '0001101111000', '0001101111010', '0001110000110', '0001110010001', '0001110010110', '0001110101101', '0001110110011', '0001110110110', '0001110110111', '0001110111100', '0001111000110', '0001111000111', '0001111001111', '0001111010011', '0001111011001', '0001111011010', '0001111100110', '0001111100111', '0001111101000', '0001111101010', '0001111110100', '0001111111110']\n"
     ]
    },
    {
     "data": {
      "text/plain": "<Figure size 640x480 with 1 Axes>",
      "image/png": "[encoded data removed]"
     },
     "metadata": {},
     "output_type": "display_data"
    }
   ],
   "source": [
    "plot(z_meas)"
   ],
   "metadata": {
    "collapsed": false,
    "ExecuteTime": {
     "end_time": "2024-02-04T04:28:57.500088Z",
     "start_time": "2024-02-04T04:28:56.744845Z"
    }
   },
   "id": "80ee11a0bf52969b",
   "execution_count": 26
  },
  {
   "cell_type": "code",
   "outputs": [],
   "source": [
    "strs = ['0000000000100', '0000000001011', '0000000010010', '0000000010011', '0000000010100', '0000000100000', '0000000101000', '0000000110111', '0000000111011', '0000000111101', '0000001000001', '0000001000110', '0000001001000', '0000001011001', '0000001100000', '0000001100010', '0000001100011', '0000001100110', '0000001101000', '0000001110001', '0000001111001', '0000001111011', '0000001111110', '0000010000100', '0000010000110', '0000010001010', '0000010001101', '0000010010010', '0000010011001', '0000010100010', '0000010100101', '0000010100110', '0000010101000', '0000010101111', '0000010111011', '0000010111110', '0000011001001', '0000011001100', '0000011010101', '0000011010110', '0000011010111', '0000011100100', '0000011100101', '0000011101000', '0000011110011', '0000011111010', '0000011111110', '0000100000011', '0000100000100', '0000100001110', '0000100001111', '0000100010100', '0000100100001', '0000100101000', '0000100101001', '0000100101111', '0000100110000', '0000100110001', '0000100110100', '0000100111111', '0000101000010', '0000101000101', '0000101000110', '0000101100001', '0000101110000', '0000101110100', '0000101111000', '0000101111001', '0000110001000', '0000110010110', '0000110010111', '0000110100000', '0000110101000', '0000110110001', '0000110110010', '0000110110111', '0000110111001', '0000110111100', '0000110111110', '0000110111111', '0000111000000', '0000111000001', '0000111001001', '0000111010000', '0000111010011', '0000111011000', '0000111011101', '0000111011111', '0000111110110', '0001000000001', '0001000010101', '0001000010110', '0001000010111', '0001000011101', '0001000100100', '0001000101101', '0001000110001', '0001001000100', '0001001000101', '0001001000110', '0001001000111', '0001001001001', '0001001001100', '0001001001101', '0001001001111', '0001001010011', '0001001011000', '0001001011100', '0001001011101', '0001001011110', '0001001101001', '0001001101011', '0001001101100', '0001001110010', '0001001110100', '0001001110110', '0001001110111', '0001001111000', '0001001111100', '0001010001111', '0001010010011', '0001010010101', '0001010011011', '0001010011100', '0001010100000', '0001010100100', '0001010101010', '0001010101011', '0001010101110', '0001010110110', '0001010111010', '0001011000101', '0001011001010', '0001011001100', '0001011010000', '0001011010001', '0001011011011', '0001011011100', '0001011011101', '0001011100011', '0001011100110', '0001011101011', '0001011110000', '0001011110101', '0001100011000', '0001100011100', '0001100011111', '0001100101010', '0001100101100', '0001100110010', '0001100111001', '0001100111010', '0001101000001', '0001101001000', '0001101010000', '0001101010100', '0001101011010', '0001101100010', '0001101100100', '0001101101100', '0001101110111', '0001101111000', '0001101111010', '0001110000110', '0001110010001', '0001110010110', '0001110101101', '0001110110011', '0001110110110', '0001110110111', '0001110111100', '0001111000110', '0001111000111', '0001111001111', '0001111010011', '0001111011001', '0001111011010', '0001111100110', '0001111100111', '0001111101000', '0001111101010', '0001111110100', '0001111111110']"
   ],
   "metadata": {
    "collapsed": false,
    "ExecuteTime": {
     "end_time": "2024-02-04T04:30:09.180991Z",
     "start_time": "2024-02-04T04:30:09.174176Z"
    }
   },
   "id": "7afad113dff4f5",
   "execution_count": 27
  },
  {
   "cell_type": "code",
   "outputs": [],
   "source": [
    "counts = defaultdict(int)\n",
    "\n",
    "for i in range(13):\n",
    " for str in strs:\n",
    "  if str[i] == '0':\n",
    "   counts[i] += 1\n",
    "   "
   ],
   "metadata": {
    "collapsed": false,
    "ExecuteTime": {
     "end_time": "2024-02-04T04:32:37.490211Z",
     "start_time": "2024-02-04T04:32:37.484618Z"
    }
   },
   "id": "a14aabfdcb0d29df",
   "execution_count": 31
  },
  {
   "cell_type": "code",
   "outputs": [
    {
     "name": "stdout",
     "output_type": "stream",
     "text": [
      "defaultdict(<class 'int'>, {0: 183, 1: 183, 2: 183, 3: 89, 4: 102, 5: 93, 6: 84, 7: 87, 8: 86, 9: 95, 10: 90, 11: 97, 12: 101})\n"
     ]
    }
   ],
   "source": [
    "print(counts)"
   ],
   "metadata": {
    "collapsed": false,
    "ExecuteTime": {
     "end_time": "2024-02-04T04:32:41.879735Z",
     "start_time": "2024-02-04T04:32:41.869551Z"
    }
   },
   "id": "9b006ad8f8ed841a",
   "execution_count": 32
  },
  {
   "cell_type": "code",
   "outputs": [
    {
     "data": {
      "text/plain": "183"
     },
     "execution_count": 33,
     "metadata": {},
     "output_type": "execute_result"
    }
   ],
   "source": [
    "len(strs)"
   ],
   "metadata": {
    "collapsed": false,
    "ExecuteTime": {
     "end_time": "2024-02-04T04:35:02.557919Z",
     "start_time": "2024-02-04T04:35:02.553121Z"
    }
   },
   "id": "8296e51cbce2eb39",
   "execution_count": 33
  },
  {
   "cell_type": "code",
   "outputs": [
    {
     "ename": "NameError",
     "evalue": "name 'sv' is not defined",
     "output_type": "error",
     "traceback": [
      "\u001B[0;31m---------------------------------------------------------------------------\u001B[0m",
      "\u001B[0;31mNameError\u001B[0m                                 Traceback (most recent call last)",
      "Cell \u001B[0;32mIn[1], line 1\u001B[0m\n\u001B[0;32m----> 1\u001B[0m \u001B[43msv\u001B[49m\u001B[38;5;241m.\u001B[39mstate()\n",
      "\u001B[0;31mNameError\u001B[0m: name 'sv' is not defined"
     ]
    }
   ],
   "source": [
    "sv.state()"
   ],
   "metadata": {
    "collapsed": false,
    "ExecuteTime": {
     "end_time": "2024-02-04T06:55:00.102654Z",
     "start_time": "2024-02-04T06:54:59.978376Z"
    }
   },
   "id": "fac8081f90136d65",
   "execution_count": 1
  },
  {
   "cell_type": "code",
   "outputs": [],
   "source": [],
   "metadata": {
    "collapsed": false
   },
   "id": "39de208ef6ad4920"
  }
 ],
 "metadata": {
  "kernelspec": {
   "display_name": "Python 3",
   "language": "python",
   "name": "python3"
  },
  "language_info": {
   "codemirror_mode": {
    "name": "ipython",
    "version": 2
   },
   "file_extension": ".py",
   "mimetype": "text/x-python",
   "name": "python",
   "nbconvert_exporter": "python",
   "pygments_lexer": "ipython2",
   "version": "2.7.6"
  }
 },
 "nbformat": 4,
 "nbformat_minor": 5
}
