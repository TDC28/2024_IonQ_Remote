{
 "cells": [
  {
   "cell_type": "code",
   "execution_count": 1,
   "id": "initial_id",
   "metadata": {
    "collapsed": true,
    "ExecuteTime": {
     "end_time": "2024-02-04T07:09:19.422575Z",
     "start_time": "2024-02-04T07:09:16.454110Z"
    }
   },
   "outputs": [],
   "source": [
    "import server\n",
    "from qiskit import QuantumCircuit\n",
    "# import matplotlib.pyplot as plt\n",
    "from collections import defaultdict\n",
    "from functions import *"
   ]
  },
  {
   "cell_type": "code",
   "outputs": [],
   "source": [
    "sv = server.Server()"
   ],
   "metadata": {
    "collapsed": false,
    "ExecuteTime": {
     "end_time": "2024-02-04T07:10:35.360507Z",
     "start_time": "2024-02-04T07:10:35.355502Z"
    }
   },
   "id": "6faf396ed0a23ace",
   "execution_count": 2
  },
  {
   "cell_type": "code",
   "outputs": [
    {
     "data": {
      "text/plain": "{'team': 'Qnonymous',\n 'totalAvgScore': 0.3847970606629143,\n 'topVaultScores': [0.8,\n  0.359,\n  0.152,\n  0,\n  0,\n  0.9230769230769231,\n  0,\n  0.002,\n  0,\n  0.8555,\n  0.941,\n  0.6404878048780488,\n  0.7445],\n 'probesRemaining': [34, 12, 15, 16, 20, 5, 15, 13, 20, 11, 10, 4, 1],\n 'attacksRemaining': [36, 19, 19, 20, 20, 16, 20, 19, 20, 18, 16, 18, 18],\n 'reminder': 'Vault index 0 is a test vault, and does not count towards your final score.'}"
     },
     "execution_count": 26,
     "metadata": {},
     "output_type": "execute_result"
    }
   ],
   "source": [
    "sv.state()"
   ],
   "metadata": {
    "collapsed": false,
    "ExecuteTime": {
     "end_time": "2024-02-04T07:42:30.722678Z",
     "start_time": "2024-02-04T07:42:30.386448Z"
    }
   },
   "id": "5231d8962beacc50",
   "execution_count": 26
  },
  {
   "cell_type": "code",
   "outputs": [
    {
     "data": {
      "text/plain": "<Figure size 538.33x535.111 with 1 Axes>",
      "image/png": "[encoded data removed]"
     },
     "execution_count": 31,
     "metadata": {},
     "output_type": "execute_result"
    }
   ],
   "source": [
    "qc = QuantumCircuit(6)\n",
    "\n",
    "for i in range(6):\n",
    "    qc.h(i)\n",
    "    qc.sdg(i)\n",
    "    qc.rz(3.141/4, i)\n",
    "    qc.h(i)\n",
    "\n",
    "qc.x(0)\n",
    "qc.x(3)\n",
    "qc.x(4)\n",
    "qc.x(5)\n",
    "\n",
    "    \n",
    "qc.draw()"
   ],
   "metadata": {
    "collapsed": false,
    "ExecuteTime": {
     "end_time": "2024-02-04T08:05:49.177770Z",
     "start_time": "2024-02-04T08:05:49.021238Z"
    }
   },
   "id": "5980193574d7b28a",
   "execution_count": 31
  },
  {
   "cell_type": "code",
   "outputs": [
    {
     "data": {
      "text/plain": "{'0': 0.04,\n '1': 0.01,\n '3': 0.025,\n '5': 0.025,\n '6': 0.01,\n '7': 0.02,\n '8': 0.005,\n '9': 0.005,\n '10': 0.02,\n '11': 0.025,\n '13': 0.035,\n '14': 0.02,\n '15': 0.01,\n '16': 0.01,\n '18': 0.015,\n '19': 0.02,\n '20': 0.015,\n '21': 0.02,\n '22': 0.02,\n '23': 0.01,\n '24': 0.015,\n '25': 0.03,\n '26': 0.03,\n '27': 0.005,\n '28': 0.025,\n '31': 0.005,\n '32': 0.005,\n '33': 0.015,\n '34': 0.01,\n '35': 0.005,\n '36': 0.03,\n '37': 0.005,\n '38': 0.03,\n '39': 0.07,\n '41': 0.04,\n '42': 0.035,\n '43': 0.015,\n '44': 0.03,\n '45': 0.03,\n '49': 0.015,\n '50': 0.03,\n '51': 0.005,\n '52': 0.025,\n '53': 0.01,\n '54': 0.005,\n '55': 0.005,\n '56': 0.02,\n '57': 0.005,\n '59': 0.005,\n '60': 0.015,\n '61': 0.02,\n '62': 0.02,\n '63': 0.03}"
     },
     "execution_count": 32,
     "metadata": {},
     "output_type": "execute_result"
    }
   ],
   "source": [
    "sv.probe(vault_index=6, circuit=qc.qasm())"
   ],
   "metadata": {
    "collapsed": false,
    "ExecuteTime": {
     "end_time": "2024-02-04T08:06:00.579884Z",
     "start_time": "2024-02-04T08:05:53.175012Z"
    }
   },
   "id": "f68612cdfa35232e",
   "execution_count": 32
  },
  {
   "cell_type": "code",
   "outputs": [
    {
     "data": {
      "text/plain": "{0: 0.4700000000000002,\n 1: 0.5700000000000003,\n 2: 0.5050000000000001,\n 3: 0.4500000000000002,\n 4: 0.49000000000000016,\n 5: 0.4750000000000002}"
     },
     "execution_count": 18,
     "metadata": {},
     "output_type": "execute_result"
    }
   ],
   "source": [
    "probability({'0': 0.01,\n",
    " '1': 0.025,\n",
    " '2': 0.01,\n",
    " '3': 0.015,\n",
    " '4': 0.015,\n",
    " '5': 0.005,\n",
    " '6': 0.025,\n",
    " '7': 0.025,\n",
    " '8': 0.02,\n",
    " '9': 0.01,\n",
    " '10': 0.025,\n",
    " '11': 0.01,\n",
    " '12': 0.01,\n",
    " '13': 0.015,\n",
    " '14': 0.015,\n",
    " '15': 0.015,\n",
    " '16': 0.02,\n",
    " '17': 0.005,\n",
    " '18': 0.02,\n",
    " '19': 0.02,\n",
    " '20': 0.015,\n",
    " '22': 0.005,\n",
    " '23': 0.025,\n",
    " '24': 0.005,\n",
    " '25': 0.01,\n",
    " '26': 0.015,\n",
    " '27': 0.035,\n",
    " '28': 0.015,\n",
    " '29': 0.025,\n",
    " '31': 0.005,\n",
    " '32': 0.005,\n",
    " '33': 0.02,\n",
    " '34': 0.01,\n",
    " '35': 0.005,\n",
    " '36': 0.055,\n",
    " '37': 0.025,\n",
    " '38': 0.015,\n",
    " '39': 0.035,\n",
    " '40': 0.005,\n",
    " '41': 0.025,\n",
    " '42': 0.025,\n",
    " '43': 0.01,\n",
    " '44': 0.025,\n",
    " '45': 0.025,\n",
    " '46': 0.02,\n",
    " '47': 0.015,\n",
    " '49': 0.015,\n",
    " '50': 0.01,\n",
    " '51': 0.015,\n",
    " '52': 0.01,\n",
    " '53': 0.015,\n",
    " '54': 0.015,\n",
    " '55': 0.015,\n",
    " '56': 0.01,\n",
    " '57': 0.015,\n",
    " '58': 0.005,\n",
    " '59': 0.02,\n",
    " '60': 0.02,\n",
    " '61': 0.015,\n",
    " '62': 0.02,\n",
    " '63': 0.01}, 6)"
   ],
   "metadata": {
    "collapsed": false,
    "ExecuteTime": {
     "end_time": "2024-02-04T07:17:17.539974Z",
     "start_time": "2024-02-04T07:17:17.532973Z"
    }
   },
   "id": "72dab9abbc9f30f6",
   "execution_count": 18
  },
  {
   "cell_type": "code",
   "outputs": [
    {
     "data": {
      "text/plain": "{0: 0.4700000000000002,\n 1: 0.5700000000000003,\n 2: 0.5050000000000001,\n 3: 0.4500000000000002,\n 4: 0.49000000000000016,\n 5: 0.4750000000000002}"
     },
     "execution_count": 16,
     "metadata": {},
     "output_type": "execute_result"
    }
   ],
   "source": [
    "probability({'0': 0.01,\n",
    " '1': 0.025,\n",
    " '2': 0.01,\n",
    " '3': 0.015,\n",
    " '4': 0.015,\n",
    " '5': 0.005,\n",
    " '6': 0.025,\n",
    " '7': 0.025,\n",
    " '8': 0.02,\n",
    " '9': 0.01,\n",
    " '10': 0.025,\n",
    " '11': 0.01,\n",
    " '12': 0.01,\n",
    " '13': 0.015,\n",
    " '14': 0.015,\n",
    " '15': 0.015,\n",
    " '16': 0.02,\n",
    " '17': 0.005,\n",
    " '18': 0.02,\n",
    " '19': 0.02,\n",
    " '20': 0.015,\n",
    " '22': 0.005,\n",
    " '23': 0.025,\n",
    " '24': 0.005,\n",
    " '25': 0.01,\n",
    " '26': 0.015,\n",
    " '27': 0.035,\n",
    " '28': 0.015,\n",
    " '29': 0.025,\n",
    " '31': 0.005,\n",
    " '32': 0.005,\n",
    " '33': 0.02,\n",
    " '34': 0.01,\n",
    " '35': 0.005,\n",
    " '36': 0.055,\n",
    " '37': 0.025,\n",
    " '38': 0.015,\n",
    " '39': 0.035,\n",
    " '40': 0.005,\n",
    " '41': 0.025,\n",
    " '42': 0.025,\n",
    " '43': 0.01,\n",
    " '44': 0.025,\n",
    " '45': 0.025,\n",
    " '46': 0.02,\n",
    " '47': 0.015,\n",
    " '49': 0.015,\n",
    " '50': 0.01,\n",
    " '51': 0.015,\n",
    " '52': 0.01,\n",
    " '53': 0.015,\n",
    " '54': 0.015,\n",
    " '55': 0.015,\n",
    " '56': 0.01,\n",
    " '57': 0.015,\n",
    " '58': 0.005,\n",
    " '59': 0.02,\n",
    " '60': 0.02,\n",
    " '61': 0.015,\n",
    " '62': 0.02,\n",
    " '63': 0.01}, 6)"
   ],
   "metadata": {
    "collapsed": false,
    "ExecuteTime": {
     "end_time": "2024-02-04T07:17:01.077494Z",
     "start_time": "2024-02-04T07:17:01.064289Z"
    }
   },
   "id": "e94ea1d5193138d4",
   "execution_count": 16
  },
  {
   "cell_type": "code",
   "outputs": [
    {
     "data": {
      "text/plain": "{0: 0.47,\n 1: 0.5700000000000002,\n 2: 0.5050000000000001,\n 3: 0.4500000000000002,\n 4: 0.4900000000000001,\n 5: 0.5350000000000001}"
     },
     "execution_count": 13,
     "metadata": {},
     "output_type": "execute_result"
    }
   ],
   "source": [
    "probability({'0': 0.035,\n",
    " '3': 0.025,\n",
    " '4': 0.02,\n",
    " '7': 0.05,\n",
    " '9': 0.03,\n",
    " '10': 0.035,\n",
    " '13': 0.025,\n",
    " '14': 0.03,\n",
    " '17': 0.025,\n",
    " '18': 0.04,\n",
    " '21': 0.015,\n",
    " '22': 0.03,\n",
    " '24': 0.015,\n",
    " '27': 0.05,\n",
    " '28': 0.04,\n",
    " '31': 0.005,\n",
    " '32': 0.025,\n",
    " '35': 0.015,\n",
    " '36': 0.08,\n",
    " '39': 0.05,\n",
    " '41': 0.03,\n",
    " '42': 0.035,\n",
    " '45': 0.05,\n",
    " '46': 0.035,\n",
    " '49': 0.015,\n",
    " '50': 0.025,\n",
    " '53': 0.025,\n",
    " '54': 0.03,\n",
    " '56': 0.025,\n",
    " '59': 0.025,\n",
    " '60': 0.035,\n",
    " '63': 0.03}, 6)"
   ],
   "metadata": {
    "collapsed": false,
    "ExecuteTime": {
     "end_time": "2024-02-04T07:15:36.332587Z",
     "start_time": "2024-02-04T07:15:36.323796Z"
    }
   },
   "id": "54d98b39fecb61e2",
   "execution_count": 13
  },
  {
   "cell_type": "code",
   "outputs": [
    {
     "name": "stdout",
     "output_type": "stream",
     "text": [
      "['000000', '000011', '000100', '000111', '001001', '001010', '001101', '001110', '010001', '010010', '010101', '010110', '011000', '011011', '011100', '011111', '100000', '100011', '100100', '100111', '101001', '101010', '101101', '101110', '110001', '110010', '110101', '110110', '111000', '111011', '111100', '111111']\n"
     ]
    },
    {
     "data": {
      "text/plain": "<Figure size 640x480 with 1 Axes>",
      "image/png": "[encoded data removed]"
     },
     "metadata": {},
     "output_type": "display_data"
    }
   ],
   "source": [
    "plot_good({'0': 0.035,\n",
    " '3': 0.025,\n",
    " '4': 0.02,\n",
    " '7': 0.05,\n",
    " '9': 0.03,\n",
    " '10': 0.035,\n",
    " '13': 0.025,\n",
    " '14': 0.03,\n",
    " '17': 0.025,\n",
    " '18': 0.04,\n",
    " '21': 0.015,\n",
    " '22': 0.03,\n",
    " '24': 0.015,\n",
    " '27': 0.05,\n",
    " '28': 0.04,\n",
    " '31': 0.005,\n",
    " '32': 0.025,\n",
    " '35': 0.015,\n",
    " '36': 0.08,\n",
    " '39': 0.05,\n",
    " '41': 0.03,\n",
    " '42': 0.035,\n",
    " '45': 0.05,\n",
    " '46': 0.035,\n",
    " '49': 0.015,\n",
    " '50': 0.025,\n",
    " '53': 0.025,\n",
    " '54': 0.03,\n",
    " '56': 0.025,\n",
    " '59': 0.025,\n",
    " '60': 0.035,\n",
    " '63': 0.03}, 6)"
   ],
   "metadata": {
    "collapsed": false,
    "ExecuteTime": {
     "end_time": "2024-02-04T07:15:53.953432Z",
     "start_time": "2024-02-04T07:15:53.790752Z"
    }
   },
   "id": "166692e00448bfd7",
   "execution_count": 14
  },
  {
   "cell_type": "code",
   "outputs": [
    {
     "data": {
      "text/plain": "{0: 0.4700000000000001,\n 1: 0.5700000000000002,\n 2: 0.5050000000000001,\n 3: 0.5050000000000001,\n 4: 0.4450000000000002,\n 5: 0.4600000000000002}"
     },
     "execution_count": 21,
     "metadata": {},
     "output_type": "execute_result"
    }
   ],
   "source": [
    "probability({'1': 0.01,\n",
    " '2': 0.025,\n",
    " '3': 0.005,\n",
    " '4': 0.025,\n",
    " '5': 0.01,\n",
    " '6': 0.005,\n",
    " '7': 0.05,\n",
    " '8': 0.005,\n",
    " '9': 0.02,\n",
    " '10': 0.025,\n",
    " '11': 0.005,\n",
    " '13': 0.035,\n",
    " '14': 0.02,\n",
    " '15': 0.01,\n",
    " '16': 0.005,\n",
    " '17': 0.02,\n",
    " '18': 0.015,\n",
    " '19': 0.005,\n",
    " '20': 0.03,\n",
    " '21': 0.005,\n",
    " '22': 0.005,\n",
    " '23': 0.025,\n",
    " '24': 0.04,\n",
    " '25': 0.02,\n",
    " '26': 0.015,\n",
    " '27': 0.035,\n",
    " '32': 0.025,\n",
    " '33': 0.01,\n",
    " '34': 0.005,\n",
    " '35': 0.075,\n",
    " '36': 0.005,\n",
    " '37': 0.015,\n",
    " '38': 0.025,\n",
    " '39': 0.01,\n",
    " '40': 0.015,\n",
    " '41': 0.025,\n",
    " '42': 0.02,\n",
    " '43': 0.03,\n",
    " '44': 0.025,\n",
    " '45': 0.01,\n",
    " '46': 0.01,\n",
    " '47': 0.015,\n",
    " '49': 0.015,\n",
    " '50': 0.035,\n",
    " '52': 0.015,\n",
    " '53': 0.01,\n",
    " '54': 0.005,\n",
    " '55': 0.015,\n",
    " '60': 0.025,\n",
    " '61': 0.025,\n",
    " '62': 0.035,\n",
    " '63': 0.03}, 6)"
   ],
   "metadata": {
    "collapsed": false,
    "ExecuteTime": {
     "end_time": "2024-02-04T07:37:47.878884Z",
     "start_time": "2024-02-04T07:37:47.871628Z"
    }
   },
   "id": "ee8a812a06dbbfda",
   "execution_count": 21
  },
  {
   "cell_type": "code",
   "outputs": [
    {
     "name": "stdout",
     "output_type": "stream",
     "text": [
      "['000001', '000010', '000011', '000100', '000101', '000110', '000111', '001000', '001001', '001010', '001011', '001101', '001110', '001111', '010000', '010001', '010010', '010011', '010100', '010101', '010110', '010111', '011000', '011001', '011010', '011011', '100000', '100001', '100010', '100011', '100100', '100101', '100110', '100111', '101000', '101001', '101010', '101011', '101100', '101101', '101110', '101111', '110001', '110010', '110100', '110101', '110110', '110111', '111100', '111101', '111110', '111111']\n"
     ]
    },
    {
     "data": {
      "text/plain": "<Figure size 640x480 with 1 Axes>",
      "image/png": "[encoded data removed]"
     },
     "metadata": {},
     "output_type": "display_data"
    }
   ],
   "source": [
    "plot_good({'1': 0.01,\n",
    " '2': 0.025,\n",
    " '3': 0.005,\n",
    " '4': 0.025,\n",
    " '5': 0.01,\n",
    " '6': 0.005,\n",
    " '7': 0.05,\n",
    " '8': 0.005,\n",
    " '9': 0.02,\n",
    " '10': 0.025,\n",
    " '11': 0.005,\n",
    " '13': 0.035,\n",
    " '14': 0.02,\n",
    " '15': 0.01,\n",
    " '16': 0.005,\n",
    " '17': 0.02,\n",
    " '18': 0.015,\n",
    " '19': 0.005,\n",
    " '20': 0.03,\n",
    " '21': 0.005,\n",
    " '22': 0.005,\n",
    " '23': 0.025,\n",
    " '24': 0.04,\n",
    " '25': 0.02,\n",
    " '26': 0.015,\n",
    " '27': 0.035,\n",
    " '32': 0.025,\n",
    " '33': 0.01,\n",
    " '34': 0.005,\n",
    " '35': 0.075,\n",
    " '36': 0.005,\n",
    " '37': 0.015,\n",
    " '38': 0.025,\n",
    " '39': 0.01,\n",
    " '40': 0.015,\n",
    " '41': 0.025,\n",
    " '42': 0.02,\n",
    " '43': 0.03,\n",
    " '44': 0.025,\n",
    " '45': 0.01,\n",
    " '46': 0.01,\n",
    " '47': 0.015,\n",
    " '49': 0.015,\n",
    " '50': 0.035,\n",
    " '52': 0.015,\n",
    " '53': 0.01,\n",
    " '54': 0.005,\n",
    " '55': 0.015,\n",
    " '60': 0.025,\n",
    " '61': 0.025,\n",
    " '62': 0.035,\n",
    " '63': 0.03}, 6)"
   ],
   "metadata": {
    "collapsed": false,
    "ExecuteTime": {
     "end_time": "2024-02-04T07:37:52.870909Z",
     "start_time": "2024-02-04T07:37:52.667673Z"
    }
   },
   "id": "d524f9ad4276e694",
   "execution_count": 22
  },
  {
   "cell_type": "code",
   "outputs": [
    {
     "data": {
      "text/plain": "{0: 0.47,\n 1: 0.5700000000000002,\n 2: 0.5050000000000001,\n 3: 0.4500000000000002,\n 4: 0.4900000000000001,\n 5: 0.5250000000000001}"
     },
     "execution_count": 25,
     "metadata": {},
     "output_type": "execute_result"
    }
   ],
   "source": [
    "probability({'0': 0.035,\n",
    " '2': 0.025,\n",
    " '5': 0.02,\n",
    " '7': 0.05,\n",
    " '9': 0.03,\n",
    " '11': 0.035,\n",
    " '12': 0.025,\n",
    " '14': 0.03,\n",
    " '16': 0.025,\n",
    " '18': 0.04,\n",
    " '21': 0.015,\n",
    " '23': 0.03,\n",
    " '25': 0.015,\n",
    " '27': 0.05,\n",
    " '28': 0.04,\n",
    " '30': 0.005,\n",
    " '33': 0.025,\n",
    " '35': 0.015,\n",
    " '36': 0.08,\n",
    " '38': 0.05,\n",
    " '40': 0.03,\n",
    " '42': 0.035,\n",
    " '45': 0.05,\n",
    " '47': 0.035,\n",
    " '49': 0.015,\n",
    " '51': 0.025,\n",
    " '52': 0.025,\n",
    " '54': 0.03,\n",
    " '56': 0.025,\n",
    " '58': 0.025,\n",
    " '61': 0.035,\n",
    " '63': 0.03}, 6)"
   ],
   "metadata": {
    "collapsed": false,
    "ExecuteTime": {
     "end_time": "2024-02-04T07:39:39.827057Z",
     "start_time": "2024-02-04T07:39:39.811775Z"
    }
   },
   "id": "b574c7e0896a87f1",
   "execution_count": 25
  },
  {
   "cell_type": "code",
   "outputs": [
    {
     "data": {
      "text/plain": "{0: 0.4700000000000002,\n 1: 0.5700000000000002,\n 2: 0.5050000000000001,\n 3: 0.4600000000000001,\n 4: 0.5000000000000001,\n 5: 0.4800000000000002}"
     },
     "execution_count": 29,
     "metadata": {},
     "output_type": "execute_result"
    }
   ],
   "source": [
    "probability({'0': 0.04,\n",
    " '1': 0.01,\n",
    " '3': 0.025,\n",
    " '5': 0.025,\n",
    " '6': 0.01,\n",
    " '7': 0.02,\n",
    " '8': 0.005,\n",
    " '9': 0.005,\n",
    " '10': 0.02,\n",
    " '11': 0.025,\n",
    " '13': 0.035,\n",
    " '14': 0.02,\n",
    " '15': 0.01,\n",
    " '16': 0.01,\n",
    " '18': 0.015,\n",
    " '19': 0.02,\n",
    " '20': 0.015,\n",
    " '21': 0.02,\n",
    " '22': 0.02,\n",
    " '23': 0.01,\n",
    " '24': 0.015,\n",
    " '25': 0.03,\n",
    " '26': 0.03,\n",
    " '27': 0.005,\n",
    " '28': 0.025,\n",
    " '31': 0.005,\n",
    " '32': 0.005,\n",
    " '33': 0.015,\n",
    " '34': 0.01,\n",
    " '35': 0.005,\n",
    " '36': 0.03,\n",
    " '37': 0.005,\n",
    " '38': 0.03,\n",
    " '39': 0.07,\n",
    " '41': 0.04,\n",
    " '42': 0.035,\n",
    " '43': 0.015,\n",
    " '44': 0.03,\n",
    " '45': 0.03,\n",
    " '49': 0.015,\n",
    " '50': 0.03,\n",
    " '51': 0.005,\n",
    " '52': 0.025,\n",
    " '53': 0.01,\n",
    " '54': 0.005,\n",
    " '55': 0.005,\n",
    " '56': 0.02,\n",
    " '57': 0.005,\n",
    " '59': 0.005,\n",
    " '60': 0.015,\n",
    " '61': 0.02,\n",
    " '62': 0.02,\n",
    " '63': 0.03}, 6)"
   ],
   "metadata": {
    "collapsed": false,
    "ExecuteTime": {
     "end_time": "2024-02-04T08:03:36.423303Z",
     "start_time": "2024-02-04T08:03:36.415501Z"
    }
   },
   "id": "eeb8b4cad7f9f47a",
   "execution_count": 29
  },
  {
   "cell_type": "code",
   "outputs": [
    {
     "name": "stdout",
     "output_type": "stream",
     "text": [
      "['000000', '000001', '000011', '000101', '000110', '000111', '001000', '001001', '001010', '001011', '001101', '001110', '001111', '010000', '010010', '010011', '010100', '010101', '010110', '010111', '011000', '011001', '011010', '011011', '011100', '011111', '100000', '100001', '100010', '100011', '100100', '100101', '100110', '100111', '101001', '101010', '101011', '101100', '101101', '110001', '110010', '110011', '110100', '110101', '110110', '110111', '111000', '111001', '111011', '111100', '111101', '111110', '111111']\n"
     ]
    },
    {
     "data": {
      "text/plain": "<Figure size 640x480 with 1 Axes>",
      "image/png": "[encoded data removed]"
     },
     "metadata": {},
     "output_type": "display_data"
    }
   ],
   "source": [
    "plot_good({'0': 0.04,\n",
    " '1': 0.01,\n",
    " '3': 0.025,\n",
    " '5': 0.025,\n",
    " '6': 0.01,\n",
    " '7': 0.02,\n",
    " '8': 0.005,\n",
    " '9': 0.005,\n",
    " '10': 0.02,\n",
    " '11': 0.025,\n",
    " '13': 0.035,\n",
    " '14': 0.02,\n",
    " '15': 0.01,\n",
    " '16': 0.01,\n",
    " '18': 0.015,\n",
    " '19': 0.02,\n",
    " '20': 0.015,\n",
    " '21': 0.02,\n",
    " '22': 0.02,\n",
    " '23': 0.01,\n",
    " '24': 0.015,\n",
    " '25': 0.03,\n",
    " '26': 0.03,\n",
    " '27': 0.005,\n",
    " '28': 0.025,\n",
    " '31': 0.005,\n",
    " '32': 0.005,\n",
    " '33': 0.015,\n",
    " '34': 0.01,\n",
    " '35': 0.005,\n",
    " '36': 0.03,\n",
    " '37': 0.005,\n",
    " '38': 0.03,\n",
    " '39': 0.07,\n",
    " '41': 0.04,\n",
    " '42': 0.035,\n",
    " '43': 0.015,\n",
    " '44': 0.03,\n",
    " '45': 0.03,\n",
    " '49': 0.015,\n",
    " '50': 0.03,\n",
    " '51': 0.005,\n",
    " '52': 0.025,\n",
    " '53': 0.01,\n",
    " '54': 0.005,\n",
    " '55': 0.005,\n",
    " '56': 0.02,\n",
    " '57': 0.005,\n",
    " '59': 0.005,\n",
    " '60': 0.015,\n",
    " '61': 0.02,\n",
    " '62': 0.02,\n",
    " '63': 0.03}, 6)"
   ],
   "metadata": {
    "collapsed": false,
    "ExecuteTime": {
     "end_time": "2024-02-04T08:04:21.944248Z",
     "start_time": "2024-02-04T08:04:21.699270Z"
    }
   },
   "id": "5431571be13dd312",
   "execution_count": 30
  },
  {
   "cell_type": "code",
   "outputs": [
    {
     "data": {
      "text/plain": "{0: 0.4700000000000002,\n 1: 0.5700000000000002,\n 2: 0.5050000000000001,\n 3: 0.4600000000000001,\n 4: 0.5000000000000001,\n 5: 0.4800000000000002}"
     },
     "execution_count": 33,
     "metadata": {},
     "output_type": "execute_result"
    }
   ],
   "source": [
    "probability({'0': 0.04,\n",
    " '1': 0.01,\n",
    " '3': 0.025,\n",
    " '5': 0.025,\n",
    " '6': 0.01,\n",
    " '7': 0.02,\n",
    " '8': 0.005,\n",
    " '9': 0.005,\n",
    " '10': 0.02,\n",
    " '11': 0.025,\n",
    " '13': 0.035,\n",
    " '14': 0.02,\n",
    " '15': 0.01,\n",
    " '16': 0.01,\n",
    " '18': 0.015,\n",
    " '19': 0.02,\n",
    " '20': 0.015,\n",
    " '21': 0.02,\n",
    " '22': 0.02,\n",
    " '23': 0.01,\n",
    " '24': 0.015,\n",
    " '25': 0.03,\n",
    " '26': 0.03,\n",
    " '27': 0.005,\n",
    " '28': 0.025,\n",
    " '31': 0.005,\n",
    " '32': 0.005,\n",
    " '33': 0.015,\n",
    " '34': 0.01,\n",
    " '35': 0.005,\n",
    " '36': 0.03,\n",
    " '37': 0.005,\n",
    " '38': 0.03,\n",
    " '39': 0.07,\n",
    " '41': 0.04,\n",
    " '42': 0.035,\n",
    " '43': 0.015,\n",
    " '44': 0.03,\n",
    " '45': 0.03,\n",
    " '49': 0.015,\n",
    " '50': 0.03,\n",
    " '51': 0.005,\n",
    " '52': 0.025,\n",
    " '53': 0.01,\n",
    " '54': 0.005,\n",
    " '55': 0.005,\n",
    " '56': 0.02,\n",
    " '57': 0.005,\n",
    " '59': 0.005,\n",
    " '60': 0.015,\n",
    " '61': 0.02,\n",
    " '62': 0.02,\n",
    " '63': 0.03}, 6)"
   ],
   "metadata": {
    "collapsed": false,
    "ExecuteTime": {
     "end_time": "2024-02-04T08:06:25.094134Z",
     "start_time": "2024-02-04T08:06:25.084963Z"
    }
   },
   "id": "2e757b2c56ada1b3",
   "execution_count": 33
  },
  {
   "cell_type": "code",
   "outputs": [
    {
     "name": "stdout",
     "output_type": "stream",
     "text": [
      "['000000', '000001', '000011', '000101', '000110', '000111', '001000', '001001', '001010', '001011', '001101', '001110', '001111', '010000', '010010', '010011', '010100', '010101', '010110', '010111', '011000', '011001', '011010', '011011', '011100', '011111', '100000', '100001', '100010', '100011', '100100', '100101', '100110', '100111', '101001', '101010', '101011', '101100', '101101', '110001', '110010', '110011', '110100', '110101', '110110', '110111', '111000', '111001', '111011', '111100', '111101', '111110', '111111']\n"
     ]
    },
    {
     "data": {
      "text/plain": "<Figure size 640x480 with 1 Axes>",
      "image/png": "[encoded data removed]"
     },
     "metadata": {},
     "output_type": "display_data"
    }
   ],
   "source": [
    "plot_good({'0': 0.04,\n",
    " '1': 0.01,\n",
    " '3': 0.025,\n",
    " '5': 0.025,\n",
    " '6': 0.01,\n",
    " '7': 0.02,\n",
    " '8': 0.005,\n",
    " '9': 0.005,\n",
    " '10': 0.02,\n",
    " '11': 0.025,\n",
    " '13': 0.035,\n",
    " '14': 0.02,\n",
    " '15': 0.01,\n",
    " '16': 0.01,\n",
    " '18': 0.015,\n",
    " '19': 0.02,\n",
    " '20': 0.015,\n",
    " '21': 0.02,\n",
    " '22': 0.02,\n",
    " '23': 0.01,\n",
    " '24': 0.015,\n",
    " '25': 0.03,\n",
    " '26': 0.03,\n",
    " '27': 0.005,\n",
    " '28': 0.025,\n",
    " '31': 0.005,\n",
    " '32': 0.005,\n",
    " '33': 0.015,\n",
    " '34': 0.01,\n",
    " '35': 0.005,\n",
    " '36': 0.03,\n",
    " '37': 0.005,\n",
    " '38': 0.03,\n",
    " '39': 0.07,\n",
    " '41': 0.04,\n",
    " '42': 0.035,\n",
    " '43': 0.015,\n",
    " '44': 0.03,\n",
    " '45': 0.03,\n",
    " '49': 0.015,\n",
    " '50': 0.03,\n",
    " '51': 0.005,\n",
    " '52': 0.025,\n",
    " '53': 0.01,\n",
    " '54': 0.005,\n",
    " '55': 0.005,\n",
    " '56': 0.02,\n",
    " '57': 0.005,\n",
    " '59': 0.005,\n",
    " '60': 0.015,\n",
    " '61': 0.02,\n",
    " '62': 0.02,\n",
    " '63': 0.03}, 6)"
   ],
   "metadata": {
    "collapsed": false,
    "ExecuteTime": {
     "end_time": "2024-02-04T08:06:31.340883Z",
     "start_time": "2024-02-04T08:06:31.140938Z"
    }
   },
   "id": "d6c0f5ca6c83c6fd",
   "execution_count": 34
  },
  {
   "cell_type": "code",
   "outputs": [
    {
     "data": {
      "text/plain": "{'rawScore': 0.04, 'score': 0.04, 'costFactor': 1}"
     },
     "execution_count": 35,
     "metadata": {},
     "output_type": "execute_result"
    }
   ],
   "source": [
    "sv.attack(vault_index=6, circuit=qc.qasm())"
   ],
   "metadata": {
    "collapsed": false,
    "ExecuteTime": {
     "end_time": "2024-02-04T08:12:30.033738Z",
     "start_time": "2024-02-04T08:12:22.941462Z"
    }
   },
   "id": "bacee9026ae4c013",
   "execution_count": 35
  },
  {
   "cell_type": "code",
   "outputs": [],
   "source": [],
   "metadata": {
    "collapsed": false
   },
   "id": "7f79e2e77b2f759c"
  }
 ],
 "metadata": {
  "kernelspec": {
   "display_name": "Python 3",
   "language": "python",
   "name": "python3"
  },
  "language_info": {
   "codemirror_mode": {
    "name": "ipython",
    "version": 2
   },
   "file_extension": ".py",
   "mimetype": "text/x-python",
   "name": "python",
   "nbconvert_exporter": "python",
   "pygments_lexer": "ipython2",
   "version": "2.7.6"
  }
 },
 "nbformat": 4,
 "nbformat_minor": 5
}
