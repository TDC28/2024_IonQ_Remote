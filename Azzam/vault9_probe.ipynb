{
 "cells": [
  {
   "cell_type": "code",
   "execution_count": 9,
   "id": "4003fa5c-e898-404c-8db8-0a4ca99b8749",
   "metadata": {
    "tags": []
   },
   "outputs": [],
   "source": [
    "import cirq\n",
    "import numpy as np\n",
    "import sympy\n",
    "from qiskit import *\n",
    "from qiskit.circuit import QuantumRegister, ClassicalRegister\n",
    "import matplotlib.pyplot as plt\n",
    "\n",
    "from qiskit.visualization import plot_distribution\n",
    "\n",
    "import server\n",
    "\n",
    "server = server.Server()"
   ]
  },
  {
   "cell_type": "code",
   "execution_count": 3,
   "id": "92df22c4-9eb1-4cfb-96c7-d036a124960a",
   "metadata": {
    "tags": []
   },
   "outputs": [],
   "source": [
    "def plot(res):\n",
    "    Convert keys to integers and sort them\n",
    "    keys_as_int = sorted(map(int, res.keys()))\n",
    "\n",
    "    # Convert integers to binary representation in big endian\n",
    "    binary_labels = [format(key, '03b') for key in keys_as_int]\n",
    "    print(binary_labels)\n",
    "\n",
    "    # Extract corresponding values\n",
    "    values = [res[str(key)] for key in keys_as_int]\n",
    "\n",
    "    # Plotting\n",
    "    plt.bar(binary_labels, values)\n",
    "    plt.xlabel('Binary Number (Big Endian)')\n",
    "    plt.ylabel('Value')\n",
    "    plt.title('Histogram of Result Object')\n",
    "    plt.show()\n",
    "\n",
    "    binary_dict = {bin(int(key))[2:]: value for key, value in res.items()}\n",
    "    return binary_dict\n",
    "    # print(binary_dict)\n",
    "    plot_histogram(binary_dict)"
   ]
  },
  {
   "cell_type": "code",
   "execution_count": 4,
   "id": "ded5ab8e-71ab-4b73-9424-9c63562fcf14",
   "metadata": {},
   "outputs": [
    {
     "name": "stdout",
     "output_type": "stream",
     "text": [
      "0: ───────M('result')───\n",
      "          │\n",
      "1: ───X───M─────────────\n"
     ]
    }
   ],
   "source": [
    "q0, q1 = cirq.LineQubit.range(2)\n",
    "circuit = cirq.Circuit(\n",
    "    cirq.X(q1),\n",
    "    # cirq.CNOT(q0, q1),\n",
    "    cirq.measure(q0, q1, key='result')\n",
    ")\n",
    "print(circuit)"
   ]
  },
  {
   "cell_type": "code",
   "execution_count": 5,
   "id": "0f607b5c-b0fb-4ee2-9275-812f3b22b834",
   "metadata": {
    "tags": []
   },
   "outputs": [
    {
     "name": "stdout",
     "output_type": "stream",
     "text": [
      "// Generated from Cirq v1.3.0\n",
      "\n",
      "OPENQASM 2.0;\n",
      "include \"qelib1.inc\";\n",
      "\n",
      "\n",
      "// Qubits: [q(0)]\n",
      "qreg q[1];\n",
      "\n",
      "\n",
      "x q[0];\n",
      "\n"
     ]
    }
   ],
   "source": [
    "cq = cirq.Circuit()\n",
    "# for i in range(12):\n",
    "#     cq.append(cirq.H.on(cirq.LineQubit(i)))\n",
    "\n",
    "cq.append(cirq.X.on(cirq.LineQubit(0)))\n",
    "\n",
    "test_probe = cirq.qasm(cq)\n",
    "print(test_probe)"
   ]
  },
  {
   "cell_type": "code",
   "execution_count": 6,
   "id": "c993c051-bac8-49fc-b5c7-1d8ca102265f",
   "metadata": {
    "tags": []
   },
   "outputs": [
    {
     "name": "stdout",
     "output_type": "stream",
     "text": [
      "Counter({1: 1000})\n"
     ]
    }
   ],
   "source": [
    "# Simulate the circuit\n",
    "simulator = cirq.Simulator()\n",
    "result = simulator.run(circuit, repetitions=1000)\n",
    "\n",
    "# Print the result histogram\n",
    "print(result.histogram(key='result'))"
   ]
  },
  {
   "cell_type": "code",
   "execution_count": 41,
   "id": "47ad1871-851b-4d04-9049-6aa245455bd8",
   "metadata": {
    "tags": []
   },
   "outputs": [],
   "source": [
    "res = server.probe(vault_index=9, circuit=test_probe)"
   ]
  },
  {
   "cell_type": "code",
   "execution_count": 35,
   "id": "b12633c8-ac52-4705-86b2-64bd0d44c42b",
   "metadata": {
    "tags": []
   },
   "outputs": [
    {
     "name": "stdout",
     "output_type": "stream",
     "text": [
      "{'0': 0.005, '1': 0.075, '2': 0.16, '3': 0.76}\n"
     ]
    }
   ],
   "source": [
    "print(res)"
   ]
  },
  {
   "cell_type": "code",
   "execution_count": 18,
   "id": "65b6db67-eaa9-4e36-bd74-3fe5f4cb8c2d",
   "metadata": {
    "tags": []
   },
   "outputs": [],
   "source": [
    "res2 = {}\n",
    "for key, val in res.items():\n",
    "    if val > 0.005:\n",
    "        res2[key] = val\n"
   ]
  },
  {
   "cell_type": "code",
   "execution_count": 7,
   "id": "0899af63-d83c-45c8-825a-e1ff09801ae5",
   "metadata": {
    "tags": []
   },
   "outputs": [
    {
     "name": "stdout",
     "output_type": "stream",
     "text": [
      "{'0': 0.005, '1': 0.075, '2': 0.16, '3': 0.76}\n"
     ]
    }
   ],
   "source": [
    "res = {'0': 0.005, '1': 0.075, '2': 0.16, '3': 0.76}\n",
    "print(res)"
   ]
  },
  {
   "cell_type": "code",
   "execution_count": 11,
   "id": "e609d6cb-86f5-4e49-a982-c76ad566e5bc",
   "metadata": {},
   "outputs": [
    {
     "data": {
      "image/png": "[encoded data removed]",
      "text/plain": [
       "<Figure size 700x500 with 1 Axes>"
      ]
     },
     "metadata": {},
     "output_type": "display_data"
    }
   ],
   "source": [
    "display(plot_distribution(plot(res)))"
   ]
  },
  {
   "cell_type": "code",
   "execution_count": null,
   "id": "737894b3-b77f-4cfd-b052-2b77d6403a60",
   "metadata": {
    "tags": []
   },
   "outputs": [],
   "source": [
    "server.state()"
   ]
  },
  {
   "cell_type": "code",
   "execution_count": null,
   "id": "c1daab7a-0cbf-4ead-b56d-9de43fe39580",
   "metadata": {},
   "outputs": [],
   "source": [
    "obj = {'0': 0.23, '1': 0.22, '2': 0.02, '3': 0.135, '4': 0.035, '5': 0.005, '6': 0.01, '7': 0.04, '8': 0.095, '9': 0.045, '10': 0.05, '11': 0.05, '12': 0.015, '13': 0.01, '14': 0.03, '15': 0.01}\n",
    "\n",
    "for val in obj.values():\n",
    "    print(str(val) + ',\\n')"
   ]
  },
  {
   "cell_type": "code",
   "execution_count": null,
   "id": "29680ec0-0126-47be-b68a-51d99f77a38a",
   "metadata": {},
   "outputs": [],
   "source": []
  }
 ],
 "metadata": {
  "kernelspec": {
   "display_name": "Python 3 [Default]",
   "language": "python",
   "name": "python3"
  },
  "language_info": {
   "codemirror_mode": {
    "name": "ipython",
    "version": 3
   },
   "file_extension": ".py",
   "mimetype": "text/x-python",
   "name": "python",
   "nbconvert_exporter": "python",
   "pygments_lexer": "ipython3",
   "version": "3.11.7"
  }
 },
 "nbformat": 4,
 "nbformat_minor": 5
}
